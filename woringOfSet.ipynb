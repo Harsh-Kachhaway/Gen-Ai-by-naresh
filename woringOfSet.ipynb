{
 "cells": [
  {
   "cell_type": "code",
   "execution_count": 1,
   "id": "3f0659e2-acf5-4603-9702-7d1c7af2968e",
   "metadata": {},
   "outputs": [],
   "source": [
    "s = {10,20,30,30}"
   ]
  },
  {
   "cell_type": "code",
   "execution_count": 2,
   "id": "dacd54e8-16eb-4b6b-b551-2ae4ab11b756",
   "metadata": {},
   "outputs": [
    {
     "data": {
      "text/plain": [
       "{10, 20, 30}"
      ]
     },
     "execution_count": 2,
     "metadata": {},
     "output_type": "execute_result"
    }
   ],
   "source": [
    "s"
   ]
  },
  {
   "cell_type": "code",
   "execution_count": null,
   "id": "11ebe889-2824-4251-b01c-4cf304b6be02",
   "metadata": {},
   "outputs": [],
   "source": [
    "s."
   ]
  }
 ],
 "metadata": {
  "kernelspec": {
   "display_name": "Python [conda env:base] *",
   "language": "python",
   "name": "conda-base-py"
  },
  "language_info": {
   "codemirror_mode": {
    "name": "ipython",
    "version": 3
   },
   "file_extension": ".py",
   "mimetype": "text/x-python",
   "name": "python",
   "nbconvert_exporter": "python",
   "pygments_lexer": "ipython3",
   "version": "3.13.5"
  }
 },
 "nbformat": 4,
 "nbformat_minor": 5
}
