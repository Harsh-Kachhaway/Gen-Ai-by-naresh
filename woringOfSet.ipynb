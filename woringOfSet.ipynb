{
 "cells": [
  {
   "cell_type": "code",
   "execution_count": 1,
   "id": "3f0659e2-acf5-4603-9702-7d1c7af2968e",
   "metadata": {},
   "outputs": [],
   "source": [
    "s = {10,20,30,30}"
   ]
  },
  {
   "cell_type": "code",
   "execution_count": 2,
   "id": "dacd54e8-16eb-4b6b-b551-2ae4ab11b756",
   "metadata": {},
   "outputs": [
    {
     "data": {
      "text/plain": [
       "{10, 20, 30}"
      ]
     },
     "execution_count": 2,
     "metadata": {},
     "output_type": "execute_result"
    }
   ],
   "source": [
    "s"
   ]
  },
  {
   "cell_type": "code",
   "execution_count": 3,
   "id": "11ebe889-2824-4251-b01c-4cf304b6be02",
   "metadata": {},
   "outputs": [],
   "source": [
    "s1 = {\"har\" ,1,'g','sdf',-1,4,2.4,1+2j}"
   ]
  },
  {
   "cell_type": "code",
   "execution_count": 4,
   "id": "695dfebc-083f-4686-b38d-4adde926d224",
   "metadata": {},
   "outputs": [
    {
     "data": {
      "text/plain": [
       "{(1+2j), -1, 1, 2.4, 4, 'g', 'har', 'sdf'}"
      ]
     },
     "execution_count": 4,
     "metadata": {},
     "output_type": "execute_result"
    }
   ],
   "source": [
    "s1"
   ]
  },
  {
   "cell_type": "code",
   "execution_count": 12,
   "id": "6f6e6842-8c8d-4662-9f2c-6830aa455945",
   "metadata": {},
   "outputs": [],
   "source": [
    "s1.add('nit')\n",
    "s1.add(1+5j)\n",
    "s1.add(True)"
   ]
  },
  {
   "cell_type": "code",
   "execution_count": 9,
   "id": "cc877087-726e-4a69-a0cf-6f65380607be",
   "metadata": {},
   "outputs": [],
   "source": [
    "s1.remove(1)"
   ]
  },
  {
   "cell_type": "code",
   "execution_count": 13,
   "id": "a2b529bc-4710-4533-8ead-7fc77a312c3b",
   "metadata": {},
   "outputs": [
    {
     "data": {
      "text/plain": [
       "{(1+2j), (1+5j), -1, 2.4, 4, True, 'g', 'har', 'nit', 'sdf'}"
      ]
     },
     "execution_count": 13,
     "metadata": {},
     "output_type": "execute_result"
    }
   ],
   "source": [
    "s1"
   ]
  },
  {
   "cell_type": "code",
   "execution_count": 16,
   "id": "b12a18da-00ee-440e-a338-f8195bd85df3",
   "metadata": {},
   "outputs": [],
   "source": [
    "s3 = s1.copy()"
   ]
  },
  {
   "cell_type": "code",
   "execution_count": 17,
   "id": "4a41aec8-b0c8-48de-8240-044a29ac4bc4",
   "metadata": {},
   "outputs": [
    {
     "data": {
      "text/plain": [
       "{(1+2j), (1+5j), -1, 2.4, 4, True, 'g', 'har', 'nit', 'sdf'}"
      ]
     },
     "execution_count": 17,
     "metadata": {},
     "output_type": "execute_result"
    }
   ],
   "source": [
    "s3"
   ]
  },
  {
   "cell_type": "code",
   "execution_count": 18,
   "id": "52472ba6-dc03-40ee-8487-3ed2dca3eae7",
   "metadata": {},
   "outputs": [
    {
     "data": {
      "text/plain": [
       "{10, 25, 40, 50, 90}"
      ]
     },
     "execution_count": 18,
     "metadata": {},
     "output_type": "execute_result"
    }
   ],
   "source": [
    "s2 = {90, 10, 50, 40, 25, 10, 50 } \n",
    "s2"
   ]
  },
  {
   "cell_type": "code",
   "execution_count": 19,
   "id": "b048ece1-693b-497f-869b-a397bb7b79f7",
   "metadata": {},
   "outputs": [
    {
     "data": {
      "text/plain": [
       "{10, 20, 30}"
      ]
     },
     "execution_count": 19,
     "metadata": {},
     "output_type": "execute_result"
    }
   ],
   "source": [
    "s"
   ]
  },
  {
   "cell_type": "code",
   "execution_count": 20,
   "id": "8fe6ff03-329f-4dab-b10a-52941ae5a46a",
   "metadata": {},
   "outputs": [],
   "source": [
    "s.add(\"harsh\")"
   ]
  },
  {
   "cell_type": "code",
   "execution_count": 21,
   "id": "3686a6df-c898-4188-8b31-d4e524e7409f",
   "metadata": {},
   "outputs": [
    {
     "data": {
      "text/plain": [
       "{10, 20, 30, 'harsh'}"
      ]
     },
     "execution_count": 21,
     "metadata": {},
     "output_type": "execute_result"
    }
   ],
   "source": [
    "s."
   ]
  },
  {
   "cell_type": "code",
   "execution_count": 23,
   "id": "03a4fb65-72ce-467a-a977-5ab859f232df",
   "metadata": {},
   "outputs": [
    {
     "ename": "TypeError",
     "evalue": "unhashable type: 'list'",
     "output_type": "error",
     "traceback": [
      "\u001b[1;31m---------------------------------------------------------------------------\u001b[0m",
      "\u001b[1;31mTypeError\u001b[0m                                 Traceback (most recent call last)",
      "Cell \u001b[1;32mIn[23], line 1\u001b[0m\n\u001b[1;32m----> 1\u001b[0m s\u001b[38;5;241m.\u001b[39madd([\u001b[38;5;241m2\u001b[39m,\u001b[38;5;241m4\u001b[39m])\n",
      "\u001b[1;31mTypeError\u001b[0m: unhashable type: 'list'"
     ]
    }
   ],
   "source": [
    "s.add([2,4])"
   ]
  },
  {
   "cell_type": "code",
   "execution_count": 24,
   "id": "3535f9b2-5165-44ac-bb74-fd7cfb60d7f7",
   "metadata": {},
   "outputs": [],
   "source": [
    "s.update(s3)"
   ]
  },
  {
   "cell_type": "code",
   "execution_count": 26,
   "id": "bca4646d-57ea-4d1b-9539-b94fd2507c46",
   "metadata": {},
   "outputs": [
    {
     "data": {
      "text/plain": [
       "{(1+2j),\n",
       " (1+5j),\n",
       " -1,\n",
       " 10,\n",
       " 2.4,\n",
       " 20,\n",
       " 30,\n",
       " 4,\n",
       " True,\n",
       " 'g',\n",
       " 'har',\n",
       " 'harsh',\n",
       " 'nit',\n",
       " 'sdf'}"
      ]
     },
     "execution_count": 26,
     "metadata": {},
     "output_type": "execute_result"
    }
   ],
   "source": [
    "s"
   ]
  },
  {
   "cell_type": "code",
   "execution_count": 27,
   "id": "83253487-2e18-460e-98d7-17fc38a182b7",
   "metadata": {},
   "outputs": [
    {
     "ename": "TypeError",
     "evalue": "'int' object is not iterable",
     "output_type": "error",
     "traceback": [
      "\u001b[1;31m---------------------------------------------------------------------------\u001b[0m",
      "\u001b[1;31mTypeError\u001b[0m                                 Traceback (most recent call last)",
      "Cell \u001b[1;32mIn[27], line 1\u001b[0m\n\u001b[1;32m----> 1\u001b[0m s\u001b[38;5;241m.\u001b[39mupdate(\u001b[38;5;241m10\u001b[39m)\n",
      "\u001b[1;31mTypeError\u001b[0m: 'int' object is not iterable"
     ]
    }
   ],
   "source": [
    "s.update(10)"
   ]
  },
  {
   "cell_type": "code",
   "execution_count": 28,
   "id": "e240e54c-9692-4684-878c-0086549fab53",
   "metadata": {},
   "outputs": [
    {
     "data": {
      "text/plain": [
       "{(1+2j),\n",
       " (1+5j),\n",
       " -1,\n",
       " 10,\n",
       " 2.4,\n",
       " 20,\n",
       " 30,\n",
       " 4,\n",
       " True,\n",
       " 'g',\n",
       " 'har',\n",
       " 'harsh',\n",
       " 'nit',\n",
       " 'sdf'}"
      ]
     },
     "execution_count": 28,
     "metadata": {},
     "output_type": "execute_result"
    }
   ],
   "source": [
    "s"
   ]
  },
  {
   "cell_type": "code",
   "execution_count": 32,
   "id": "c5c9d01d-0116-4239-8a6c-06bb32f58d39",
   "metadata": {},
   "outputs": [],
   "source": [
    "s.remove(\"nit\")"
   ]
  },
  {
   "cell_type": "code",
   "execution_count": 33,
   "id": "064630f6-361f-4ee7-8e67-073a27c3d52b",
   "metadata": {},
   "outputs": [
    {
     "ename": "KeyError",
     "evalue": "'nit'",
     "output_type": "error",
     "traceback": [
      "\u001b[1;31m---------------------------------------------------------------------------\u001b[0m",
      "\u001b[1;31mKeyError\u001b[0m                                  Traceback (most recent call last)",
      "Cell \u001b[1;32mIn[33], line 1\u001b[0m\n\u001b[1;32m----> 1\u001b[0m s\u001b[38;5;241m.\u001b[39mremove(\u001b[38;5;124m\"\u001b[39m\u001b[38;5;124mnit\u001b[39m\u001b[38;5;124m\"\u001b[39m)\n",
      "\u001b[1;31mKeyError\u001b[0m: 'nit'"
     ]
    }
   ],
   "source": [
    "s.remove(\"nit\")"
   ]
  },
  {
   "cell_type": "code",
   "execution_count": 34,
   "id": "031abb19-e43f-4f82-ac36-510287f952e2",
   "metadata": {},
   "outputs": [
    {
     "data": {
      "text/plain": [
       "{(1+2j), (1+5j), -1, 10, 2.4, 20, 30, 4, True, 'g', 'har', 'harsh', 'sdf'}"
      ]
     },
     "execution_count": 34,
     "metadata": {},
     "output_type": "execute_result"
    }
   ],
   "source": [
    "s"
   ]
  },
  {
   "cell_type": "code",
   "execution_count": 60,
   "id": "3877fb09-fb8d-4fdd-bbaa-cdec822438e6",
   "metadata": {},
   "outputs": [
    {
     "ename": "KeyError",
     "evalue": "'pop from an empty set'",
     "output_type": "error",
     "traceback": [
      "\u001b[1;31m---------------------------------------------------------------------------\u001b[0m",
      "\u001b[1;31mKeyError\u001b[0m                                  Traceback (most recent call last)",
      "Cell \u001b[1;32mIn[60], line 1\u001b[0m\n\u001b[1;32m----> 1\u001b[0m s\u001b[38;5;241m.\u001b[39mpop()\n",
      "\u001b[1;31mKeyError\u001b[0m: 'pop from an empty set'"
     ]
    }
   ],
   "source": [
    "s.pop()"
   ]
  },
  {
   "cell_type": "code",
   "execution_count": 62,
   "id": "9f1c0615-e70f-4b5b-9f60-60bb707a86ab",
   "metadata": {},
   "outputs": [
    {
     "ename": "AttributeError",
     "evalue": "'frozenset' object has no attribute 'add'",
     "output_type": "error",
     "traceback": [
      "\u001b[1;31m---------------------------------------------------------------------------\u001b[0m",
      "\u001b[1;31mAttributeError\u001b[0m                            Traceback (most recent call last)",
      "Cell \u001b[1;32mIn[62], line 2\u001b[0m\n\u001b[0;32m      1\u001b[0m fs \u001b[38;5;241m=\u001b[39m \u001b[38;5;28mfrozenset\u001b[39m({\u001b[38;5;241m1\u001b[39m, \u001b[38;5;241m2\u001b[39m, \u001b[38;5;241m3\u001b[39m})\n\u001b[1;32m----> 2\u001b[0m fs\u001b[38;5;241m.\u001b[39madd(\u001b[38;5;241m4\u001b[39m)\n",
      "\u001b[1;31mAttributeError\u001b[0m: 'frozenset' object has no attribute 'add'"
     ]
    }
   ],
   "source": [
    "fs = frozenset({1, 2, 3})\n",
    "fs.add(4) "
   ]
  },
  {
   "cell_type": "code",
   "execution_count": 84,
   "id": "2d502a21-4e66-4516-b5df-b14f01bece16",
   "metadata": {},
   "outputs": [],
   "source": [
    "s1 = {1,2,3,4,5}\n",
    "s2 = {2,3}\n",
    "s3 = {10,20}"
   ]
  },
  {
   "cell_type": "code",
   "execution_count": 85,
   "id": "39dd8c7f-73b6-4d78-b104-4bd6e67238d1",
   "metadata": {},
   "outputs": [
    {
     "data": {
      "text/plain": [
       "True"
      ]
     },
     "execution_count": 85,
     "metadata": {},
     "output_type": "execute_result"
    }
   ],
   "source": [
    "s3.isdisjoint(s1)"
   ]
  },
  {
   "cell_type": "code",
   "execution_count": 86,
   "id": "46e08dd1-0255-432a-b4d4-e940b39e265d",
   "metadata": {},
   "outputs": [],
   "source": [
    "s3.add(5)"
   ]
  },
  {
   "cell_type": "code",
   "execution_count": 87,
   "id": "1b14d458-2cd0-428b-b202-15225b15909f",
   "metadata": {},
   "outputs": [
    {
     "data": {
      "text/plain": [
       "False"
      ]
     },
     "execution_count": 87,
     "metadata": {},
     "output_type": "execute_result"
    }
   ],
   "source": [
    "s3.isdisjoint(s1)"
   ]
  },
  {
   "cell_type": "code",
   "execution_count": 88,
   "id": "07208baa-62b4-4e86-889c-e5f41b2a04cb",
   "metadata": {},
   "outputs": [
    {
     "data": {
      "text/plain": [
       "True"
      ]
     },
     "execution_count": 88,
     "metadata": {},
     "output_type": "execute_result"
    }
   ],
   "source": [
    "s1.issubset(s1)"
   ]
  },
  {
   "cell_type": "code",
   "execution_count": 89,
   "id": "c86849e2-0037-4244-941d-36daac5a8e19",
   "metadata": {},
   "outputs": [
    {
     "data": {
      "text/plain": [
       "False"
      ]
     },
     "execution_count": 89,
     "metadata": {},
     "output_type": "execute_result"
    }
   ],
   "source": [
    "s1.issubset(s2)"
   ]
  },
  {
   "cell_type": "code",
   "execution_count": 90,
   "id": "866e5d51-168a-4493-97c3-935a343d5c17",
   "metadata": {},
   "outputs": [
    {
     "data": {
      "text/plain": [
       "True"
      ]
     },
     "execution_count": 90,
     "metadata": {},
     "output_type": "execute_result"
    }
   ],
   "source": [
    "s2.issubset(s1)"
   ]
  },
  {
   "cell_type": "code",
   "execution_count": 91,
   "id": "e2697040-741e-43a0-a963-e5221f09286c",
   "metadata": {},
   "outputs": [
    {
     "data": {
      "text/plain": [
       "True"
      ]
     },
     "execution_count": 91,
     "metadata": {},
     "output_type": "execute_result"
    }
   ],
   "source": [
    "s1.issuperset(s2)"
   ]
  },
  {
   "cell_type": "code",
   "execution_count": 92,
   "id": "7e7917cc-4630-45db-b944-8878095d596d",
   "metadata": {},
   "outputs": [
    {
     "data": {
      "text/plain": [
       "False"
      ]
     },
     "execution_count": 92,
     "metadata": {},
     "output_type": "execute_result"
    }
   ],
   "source": [
    "s1.issuperset(s3)"
   ]
  },
  {
   "cell_type": "code",
   "execution_count": 103,
   "id": "f5ccd881-252b-47a8-83fd-38039a96d98a",
   "metadata": {},
   "outputs": [],
   "source": [
    "a= {1,2,3}\n",
    "b = {3,4,5}\n"
   ]
  },
  {
   "cell_type": "code",
   "execution_count": 94,
   "id": "16e5e256-0980-4d89-aa81-cc06e125ff1f",
   "metadata": {},
   "outputs": [
    {
     "data": {
      "text/plain": [
       "{1, 2, 3, 4, 5}"
      ]
     },
     "execution_count": 94,
     "metadata": {},
     "output_type": "execute_result"
    }
   ],
   "source": [
    "a|b"
   ]
  },
  {
   "cell_type": "code",
   "execution_count": 95,
   "id": "984a8cf9-cf4c-43fd-b311-8d0b3c9409fc",
   "metadata": {},
   "outputs": [
    {
     "data": {
      "text/plain": [
       "{3}"
      ]
     },
     "execution_count": 95,
     "metadata": {},
     "output_type": "execute_result"
    }
   ],
   "source": [
    "a&b"
   ]
  },
  {
   "cell_type": "code",
   "execution_count": 96,
   "id": "e5f8db28-1d97-44f4-827b-9f138231bcc4",
   "metadata": {},
   "outputs": [
    {
     "data": {
      "text/plain": [
       "{1, 2}"
      ]
     },
     "execution_count": 96,
     "metadata": {},
     "output_type": "execute_result"
    }
   ],
   "source": [
    "a-b"
   ]
  },
  {
   "cell_type": "code",
   "execution_count": 97,
   "id": "8afa589d-fdf2-4089-97dd-486929191c05",
   "metadata": {},
   "outputs": [
    {
     "data": {
      "text/plain": [
       "{1, 2, 4, 5}"
      ]
     },
     "execution_count": 97,
     "metadata": {},
     "output_type": "execute_result"
    }
   ],
   "source": [
    "a^b"
   ]
  },
  {
   "cell_type": "code",
   "execution_count": 98,
   "id": "0f2a2b0a-3cd2-487f-852a-6ed5fe2eceb7",
   "metadata": {},
   "outputs": [],
   "source": [
    "a &= b"
   ]
  },
  {
   "cell_type": "code",
   "execution_count": 99,
   "id": "e1f6e909-f652-4ff0-a0d2-ce99693cc962",
   "metadata": {},
   "outputs": [
    {
     "data": {
      "text/plain": [
       "{3}"
      ]
     },
     "execution_count": 99,
     "metadata": {},
     "output_type": "execute_result"
    }
   ],
   "source": [
    "a"
   ]
  },
  {
   "cell_type": "code",
   "execution_count": 102,
   "id": "dafa41ab-514f-477f-9c3b-8b9ea82d71ae",
   "metadata": {},
   "outputs": [
    {
     "data": {
      "text/plain": [
       "{1, 2}"
      ]
     },
     "execution_count": 102,
     "metadata": {},
     "output_type": "execute_result"
    }
   ],
   "source": [
    "a -= b\n",
    "a"
   ]
  },
  {
   "cell_type": "code",
   "execution_count": 104,
   "id": "8897f5ea-f8ec-4f8e-9252-61e220b9a309",
   "metadata": {},
   "outputs": [
    {
     "data": {
      "text/plain": [
       "{1, 2, 4, 5}"
      ]
     },
     "execution_count": 104,
     "metadata": {},
     "output_type": "execute_result"
    }
   ],
   "source": [
    "a ^= b\n",
    "a"
   ]
  },
  {
   "cell_type": "code",
   "execution_count": null,
   "id": "28607574-7a07-4095-a5f0-92f615a21a7a",
   "metadata": {},
   "outputs": [],
   "source": []
  },
  {
   "cell_type": "code",
   "execution_count": null,
   "id": "b62a4710-c6dd-43d3-b72d-70d6187c1264",
   "metadata": {},
   "outputs": [],
   "source": []
  },
  {
   "cell_type": "code",
   "execution_count": null,
   "id": "331bb5f6-e806-4964-b51f-5bfe24f2edf3",
   "metadata": {},
   "outputs": [],
   "source": []
  },
  {
   "cell_type": "code",
   "execution_count": null,
   "id": "25886b84-0ef0-4760-a305-7824059f5c94",
   "metadata": {},
   "outputs": [],
   "source": []
  },
  {
   "cell_type": "code",
   "execution_count": null,
   "id": "12d88c2c-df6b-41ec-b7ba-9eca8bf11092",
   "metadata": {},
   "outputs": [],
   "source": []
  },
  {
   "cell_type": "code",
   "execution_count": null,
   "id": "ceb9e9c7-0fa3-4b13-b375-94c083ae15b3",
   "metadata": {},
   "outputs": [],
   "source": []
  },
  {
   "cell_type": "code",
   "execution_count": null,
   "id": "22bbfead-c1bc-467c-96d2-000c029e2e37",
   "metadata": {},
   "outputs": [],
   "source": []
  },
  {
   "cell_type": "code",
   "execution_count": null,
   "id": "c09936cd-c225-4d64-bfe1-921efeb8a08f",
   "metadata": {},
   "outputs": [],
   "source": []
  },
  {
   "cell_type": "code",
   "execution_count": null,
   "id": "1d4fddbc-2c64-4e90-98d9-e7d1f80ba832",
   "metadata": {},
   "outputs": [],
   "source": []
  },
  {
   "cell_type": "code",
   "execution_count": null,
   "id": "7a180fa6-08e4-4ba9-b6b7-f57ba2308bd3",
   "metadata": {},
   "outputs": [],
   "source": []
  },
  {
   "cell_type": "code",
   "execution_count": null,
   "id": "dd610031-5222-400d-b64b-f95e467db318",
   "metadata": {},
   "outputs": [],
   "source": []
  },
  {
   "cell_type": "code",
   "execution_count": null,
   "id": "b2d13495-3922-4b0d-a755-5929793a29c2",
   "metadata": {},
   "outputs": [],
   "source": []
  },
  {
   "cell_type": "code",
   "execution_count": null,
   "id": "3f1b6995-a735-46be-bd2e-38f18e32560b",
   "metadata": {},
   "outputs": [],
   "source": []
  },
  {
   "cell_type": "code",
   "execution_count": null,
   "id": "26e68044-8300-4413-a72c-24283d1dd21d",
   "metadata": {},
   "outputs": [],
   "source": []
  },
  {
   "cell_type": "code",
   "execution_count": null,
   "id": "71aaade4-deb3-4270-876c-92fbf375e2be",
   "metadata": {},
   "outputs": [],
   "source": []
  },
  {
   "cell_type": "code",
   "execution_count": null,
   "id": "9172a73e-7624-4c66-834c-193535757f30",
   "metadata": {},
   "outputs": [],
   "source": []
  },
  {
   "cell_type": "code",
   "execution_count": null,
   "id": "462b36db-aa15-496e-8931-a9c8f0fd05e0",
   "metadata": {},
   "outputs": [],
   "source": []
  },
  {
   "cell_type": "code",
   "execution_count": null,
   "id": "a81679b0-08b1-409c-be39-5daf07666bd9",
   "metadata": {},
   "outputs": [],
   "source": []
  }
 ],
 "metadata": {
  "kernelspec": {
   "display_name": "Python [conda env:base] *",
   "language": "python",
   "name": "conda-base-py"
  },
  "language_info": {
   "codemirror_mode": {
    "name": "ipython",
    "version": 3
   },
   "file_extension": ".py",
   "mimetype": "text/x-python",
   "name": "python",
   "nbconvert_exporter": "python",
   "pygments_lexer": "ipython3",
   "version": "3.13.5"
  }
 },
 "nbformat": 4,
 "nbformat_minor": 5
}
