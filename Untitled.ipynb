{
 "cells": [
  {
   "cell_type": "code",
   "execution_count": null,
   "id": "5c2700a6-a467-4dce-bb60-d55eb8955954",
   "metadata": {},
   "outputs": [],
   "source": []
  }
 ],
 "metadata": {
  "kernelspec": {
   "display_name": "",
   "name": ""
  },
  "language_info": {
   "name": ""
  }
 },
 "nbformat": 4,
 "nbformat_minor": 5
}
