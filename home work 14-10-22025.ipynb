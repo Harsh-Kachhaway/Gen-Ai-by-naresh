{
 "cells": [
  {
   "cell_type": "markdown",
   "id": "00f50802-1577-4aaa-94ab-11b1815700b9",
   "metadata": {},
   "source": [
    "# this it home work frome 14th of octomber 2025\n"
   ]
  },
  {
   "cell_type": "code",
   "execution_count": 1,
   "id": "cd9c2b66-bfdd-48be-ae54-b98c484c7beb",
   "metadata": {},
   "outputs": [],
   "source": [
    "a = 0\n",
    "b = 0"
   ]
  },
  {
   "cell_type": "code",
   "execution_count": null,
   "id": "9621a828-6c03-4b60-b7ee-1344a4157b09",
   "metadata": {},
   "outputs": [],
   "source": []
  },
  {
   "cell_type": "code",
   "execution_count": 2,
   "id": "6d286c5c-172d-4101-9d9d-373db8edc1a2",
   "metadata": {},
   "outputs": [
    {
     "name": "stdout",
     "output_type": "stream",
     "text": [
      "this app will calculate area\n"
     ]
    },
    {
     "name": "stdin",
     "output_type": "stream",
     "text": [
      "please enter length 2\n",
      "please enter width 2\n"
     ]
    }
   ],
   "source": [
    "print(\"this app will calculate area\")\n",
    "a = input(\"please enter length\")\n",
    "b = input(\"please enter width\")"
   ]
  },
  {
   "cell_type": "code",
   "execution_count": 3,
   "id": "d2041c3d-8496-462a-a74b-ec5145659f41",
   "metadata": {},
   "outputs": [
    {
     "name": "stdout",
     "output_type": "stream",
     "text": [
      "4.0\n"
     ]
    }
   ],
   "source": [
    "print( float(a) * float(b))"
   ]
  },
  {
   "cell_type": "code",
   "execution_count": null,
   "id": "87c1ce61-72c6-4861-be6b-1964f295f968",
   "metadata": {},
   "outputs": [],
   "source": []
  },
  {
   "cell_type": "code",
   "execution_count": null,
   "id": "1191ca87-cdf4-41e3-add6-8400e1257c8e",
   "metadata": {},
   "outputs": [],
   "source": []
  },
  {
   "cell_type": "code",
   "execution_count": 4,
   "id": "c3081fb6-7df9-4bab-a418-838e9c8af66b",
   "metadata": {},
   "outputs": [],
   "source": [
    "import math"
   ]
  },
  {
   "cell_type": "code",
   "execution_count": 5,
   "id": "6579ef73-080b-4f62-95a8-a81d85cf15cb",
   "metadata": {},
   "outputs": [],
   "source": [
    "def area_rectangle():\n",
    "    print(\"area of rectangle\" , float(input(\"enter leng\")) * float(input(\"enter wid\")))\n",
    "    "
   ]
  },
  {
   "cell_type": "code",
   "execution_count": 6,
   "id": "ae547c7b-52fb-4594-87c9-e39253117b61",
   "metadata": {},
   "outputs": [],
   "source": [
    "def area_circle():\n",
    "    print(\"area of circle\", math.pi * (float(input(\"radius of circle\")) ** 2 ))"
   ]
  },
  {
   "cell_type": "code",
   "execution_count": 7,
   "id": "97e75a8b-456b-4363-8043-1126407a6d8f",
   "metadata": {},
   "outputs": [],
   "source": [
    "def area_triangle():\n",
    "    print(\"area of trianle:\" , (float(input(\"length of base\")) * float(input(\"height of perpindicular\"))) / 2)"
   ]
  },
  {
   "cell_type": "code",
   "execution_count": 8,
   "id": "536868ba-7f92-497f-841d-a6db54b18b14",
   "metadata": {},
   "outputs": [],
   "source": [
    "def area_square():\n",
    "    print(\"area of square:\" , float(input(\"lenght of square\")) ** 2)"
   ]
  },
  {
   "cell_type": "code",
   "execution_count": 9,
   "id": "04b347b4-8d3d-44f6-afa3-191b9185de50",
   "metadata": {},
   "outputs": [],
   "source": [
    "def area_trapezium():\n",
    "    print(\"area of Trapizium:\" , ((float(input(\"lenght of small size \")) + float(input(\"length of biger side\"))) * float(input(\"height of trapizium\"))) / 2)"
   ]
  },
  {
   "cell_type": "code",
   "execution_count": 10,
   "id": "282c8318-4a86-4fc9-b3f6-2361941cbfea",
   "metadata": {},
   "outputs": [],
   "source": [
    "def area_rombus():\n",
    "    print(\"area of rombus:\" , (float(input(\"length of digonal 1\")) * float(input(\"lenght of digonal 2\"))) / 2)   "
   ]
  },
  {
   "cell_type": "code",
   "execution_count": 11,
   "id": "b2b7ec48-3ac6-43e8-8ffb-99bab208b96c",
   "metadata": {},
   "outputs": [],
   "source": [
    "def area_parallelogram():\n",
    "    print(\"area of parallelogram:\" , float(input(\"length of base\")) * float(input(\"perpindicular height\")))"
   ]
  },
  {
   "cell_type": "code",
   "execution_count": 12,
   "id": "b4960c22-0023-4b9b-b656-486dc2d33def",
   "metadata": {},
   "outputs": [],
   "source": [
    "def area_equilateral_triangle():\n",
    "    print(\"area of equilateral triangle\" , (math.sqrt(3) / 4) * (float(input(\"side of triangle\")) **2))\n",
    " "
   ]
  },
  {
   "cell_type": "code",
   "execution_count": 13,
   "id": "0273b87f-84b6-47d3-847a-dbd9cf24e8ee",
   "metadata": {},
   "outputs": [],
   "source": [
    "def finding_shape(shape_inp):\n",
    "    match shape_inp:\n",
    "        case 'r':\n",
    "            print(\"rectangle\")\n",
    "            area_rectangle()\n",
    "        case 'c':\n",
    "            print(\"circle\")\n",
    "            area_circle()\n",
    "        case 's':\n",
    "            print(\"square\")\n",
    "            area_square()\n",
    "        case 't':\n",
    "            print(\"triangle\")\n",
    "            area_triangle()\n",
    "        case 'tr':\n",
    "            print(\"trapeazium\")\n",
    "            area_trapezium()\n",
    "        case 'ro':\n",
    "            print(\"rombus\")\n",
    "            area_rombus()\n",
    "        case 'pr':\n",
    "            print(\"parallelogram\") \n",
    "            area_parallelogram()\n",
    "        case 'eqt':\n",
    "            print(\"equilitral triangle\")\n",
    "            area_equilateral_triangle()\n",
    "    "
   ]
  },
  {
   "cell_type": "code",
   "execution_count": 14,
   "id": "f8cd518a-a01b-401e-9e12-1b97796f0a36",
   "metadata": {},
   "outputs": [
    {
     "name": "stdout",
     "output_type": "stream",
     "text": [
      " 'c' for circle ,\n",
      " 'r' for rectantle ,\n",
      " 's' for square,\n",
      " 't' for triangle,\n",
      " 'tr' for trapeazium ,\n",
      " 'ro' for rombus,\n",
      " 'pr' for parlalopram, \n",
      " 'eqt' for equilateral_triangle \n"
     ]
    },
    {
     "name": "stdin",
     "output_type": "stream",
     "text": [
      "shape t\n"
     ]
    },
    {
     "name": "stdout",
     "output_type": "stream",
     "text": [
      "triangle\n"
     ]
    },
    {
     "name": "stdin",
     "output_type": "stream",
     "text": [
      "length of base 3\n",
      "height of perpindicular 34\n"
     ]
    },
    {
     "name": "stdout",
     "output_type": "stream",
     "text": [
      "area of trianle: 51.0\n"
     ]
    }
   ],
   "source": [
    "print(\" 'c' for circle ,\\n 'r' for rectantle ,\\n 's' for square,\\n 't' for triangle,\\n 'tr' for trapeazium ,\\n 'ro' for rombus,\\n 'pr' for parlalopram, \\n 'eqt' for equilateral_triangle \")\n",
    "finding_shape(input(\"shape\"))\n"
   ]
  }
 ],
 "metadata": {
  "kernelspec": {
   "display_name": "Python [conda env:base] *",
   "language": "python",
   "name": "conda-base-py"
  },
  "language_info": {
   "codemirror_mode": {
    "name": "ipython",
    "version": 3
   },
   "file_extension": ".py",
   "mimetype": "text/x-python",
   "name": "python",
   "nbconvert_exporter": "python",
   "pygments_lexer": "ipython3",
   "version": "3.13.5"
  }
 },
 "nbformat": 4,
 "nbformat_minor": 5
}
