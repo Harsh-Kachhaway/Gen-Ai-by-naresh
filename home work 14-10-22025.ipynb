{
 "cells": [
  {
   "cell_type": "markdown",
   "id": "00f50802-1577-4aaa-94ab-11b1815700b9",
   "metadata": {},
   "source": [
    "# this it home work frome 14th of octomber 2025\n"
   ]
  },
  {
   "cell_type": "code",
   "execution_count": 1,
   "id": "c3081fb6-7df9-4bab-a418-838e9c8af66b",
   "metadata": {},
   "outputs": [],
   "source": [
    "import math"
   ]
  },
  {
   "cell_type": "code",
   "execution_count": 2,
   "id": "6579ef73-080b-4f62-95a8-a81d85cf15cb",
   "metadata": {},
   "outputs": [],
   "source": [
    "def area_rectangle():\n",
    "    print(\"area of rectangle\" , float(input(\"enter leng\")) * float(input(\"enter wid\")))\n",
    "    "
   ]
  },
  {
   "cell_type": "code",
   "execution_count": 3,
   "id": "ae547c7b-52fb-4594-87c9-e39253117b61",
   "metadata": {},
   "outputs": [],
   "source": [
    "def area_circle():\n",
    "    print(\"area of circle\", math.pi * (float(input(\"radius of circle\")) ** 2 ))"
   ]
  },
  {
   "cell_type": "code",
   "execution_count": 4,
   "id": "97e75a8b-456b-4363-8043-1126407a6d8f",
   "metadata": {},
   "outputs": [],
   "source": [
    "def area_triangle():\n",
    "    print(\"area of trianle:\" , (float(input(\"length of base\")) * float(input(\"height of perpindicular\"))) / 2)"
   ]
  },
  {
   "cell_type": "code",
   "execution_count": 5,
   "id": "536868ba-7f92-497f-841d-a6db54b18b14",
   "metadata": {},
   "outputs": [],
   "source": [
    "def area_square():\n",
    "    print(\"area of square:\" , float(input(\"lenght of square\")) ** 2)"
   ]
  },
  {
   "cell_type": "code",
   "execution_count": 6,
   "id": "04b347b4-8d3d-44f6-afa3-191b9185de50",
   "metadata": {},
   "outputs": [],
   "source": [
    "def area_trapezium():\n",
    "    print(\"area of Trapizium:\" , ((float(input(\"lenght of small size \")) + float(input(\"length of biger side\"))) * float(input(\"height of trapizium\"))) / 2)"
   ]
  },
  {
   "cell_type": "code",
   "execution_count": 7,
   "id": "282c8318-4a86-4fc9-b3f6-2361941cbfea",
   "metadata": {},
   "outputs": [],
   "source": [
    "def area_rombus():\n",
    "    print(\"area of rombus:\" , (float(input(\"length of digonal 1\")) * float(input(\"lenght of digonal 2\"))) / 2)   "
   ]
  },
  {
   "cell_type": "code",
   "execution_count": 8,
   "id": "b2b7ec48-3ac6-43e8-8ffb-99bab208b96c",
   "metadata": {},
   "outputs": [],
   "source": [
    "def area_parallelogram():\n",
    "    print(\"area of parallelogram:\" , float(input(\"length of base\")) * float(input(\"perpindicular height\")))"
   ]
  },
  {
   "cell_type": "code",
   "execution_count": 9,
   "id": "b4960c22-0023-4b9b-b656-486dc2d33def",
   "metadata": {},
   "outputs": [],
   "source": [
    "def area_equilateral_triangle():\n",
    "    print(\"area of equilateral triangle\" , (math.sqrt(3) / 4) * (float(input(\"side of triangle\")) **2))\n",
    " "
   ]
  },
  {
   "cell_type": "code",
   "execution_count": 10,
   "id": "0273b87f-84b6-47d3-847a-dbd9cf24e8ee",
   "metadata": {},
   "outputs": [],
   "source": [
    "def finding_shape(shape_inp):\n",
    "    match shape_inp:\n",
    "        case 'r':\n",
    "            print(\"rectangle\")\n",
    "            area_rectangle()\n",
    "        case 'c':\n",
    "            print(\"circle\")\n",
    "            area_circle()\n",
    "        case 's':\n",
    "            print(\"square\")\n",
    "            area_square()\n",
    "        case 't':\n",
    "            print(\"triangle\")\n",
    "            area_triangle()\n",
    "        case 'tr':\n",
    "            print(\"trapeazium\")\n",
    "            area_trapezium()\n",
    "        case 'ro':\n",
    "            print(\"rombus\")\n",
    "            area_rombus()\n",
    "        case 'pr':\n",
    "            print(\"parallelogram\") \n",
    "            area_parallelogram()\n",
    "        case 'eqt':\n",
    "            print(\"equilitral triangle\")\n",
    "            area_equilateral_triangle()\n",
    "        case _:\n",
    "            print(\"Please select from options.\")\n",
    "            os,sy\n",
    "    \n",
    "    "
   ]
  },
  {
   "cell_type": "code",
   "execution_count": 11,
   "id": "f8cd518a-a01b-401e-9e12-1b97796f0a36",
   "metadata": {},
   "outputs": [
    {
     "name": "stdout",
     "output_type": "stream",
     "text": [
      " 'c' for circle ,\n",
      " 'r' for rectantle ,\n",
      " 's' for square,\n",
      " 't' for triangle,\n",
      " 'tr' for trapeazium ,\n",
      " 'ro' for rombus,\n",
      " 'pr' for parlalopram, \n",
      " 'eqt' for equilateral_triangle \n"
     ]
    },
    {
     "name": "stdout",
     "output_type": "stream",
     "text": [
      "shape c\n"
     ]
    },
    {
     "name": "stdout",
     "output_type": "stream",
     "text": [
      "circle\n"
     ]
    },
    {
     "name": "stdout",
     "output_type": "stream",
     "text": [
      "radius of circle c\n"
     ]
    },
    {
     "ename": "ValueError",
     "evalue": "could not convert string to float: 'c'",
     "output_type": "error",
     "traceback": [
      "\u001b[1;31m---------------------------------------------------------------------------\u001b[0m",
      "\u001b[1;31mValueError\u001b[0m                                Traceback (most recent call last)",
      "Cell \u001b[1;32mIn[11], line 2\u001b[0m\n\u001b[0;32m      1\u001b[0m \u001b[38;5;28mprint\u001b[39m(\u001b[38;5;124m\"\u001b[39m\u001b[38;5;124m \u001b[39m\u001b[38;5;124m'\u001b[39m\u001b[38;5;124mc\u001b[39m\u001b[38;5;124m'\u001b[39m\u001b[38;5;124m for circle ,\u001b[39m\u001b[38;5;130;01m\\n\u001b[39;00m\u001b[38;5;124m \u001b[39m\u001b[38;5;124m'\u001b[39m\u001b[38;5;124mr\u001b[39m\u001b[38;5;124m'\u001b[39m\u001b[38;5;124m for rectantle ,\u001b[39m\u001b[38;5;130;01m\\n\u001b[39;00m\u001b[38;5;124m \u001b[39m\u001b[38;5;124m'\u001b[39m\u001b[38;5;124ms\u001b[39m\u001b[38;5;124m'\u001b[39m\u001b[38;5;124m for square,\u001b[39m\u001b[38;5;130;01m\\n\u001b[39;00m\u001b[38;5;124m \u001b[39m\u001b[38;5;124m'\u001b[39m\u001b[38;5;124mt\u001b[39m\u001b[38;5;124m'\u001b[39m\u001b[38;5;124m for triangle,\u001b[39m\u001b[38;5;130;01m\\n\u001b[39;00m\u001b[38;5;124m \u001b[39m\u001b[38;5;124m'\u001b[39m\u001b[38;5;124mtr\u001b[39m\u001b[38;5;124m'\u001b[39m\u001b[38;5;124m for trapeazium ,\u001b[39m\u001b[38;5;130;01m\\n\u001b[39;00m\u001b[38;5;124m \u001b[39m\u001b[38;5;124m'\u001b[39m\u001b[38;5;124mro\u001b[39m\u001b[38;5;124m'\u001b[39m\u001b[38;5;124m for rombus,\u001b[39m\u001b[38;5;130;01m\\n\u001b[39;00m\u001b[38;5;124m \u001b[39m\u001b[38;5;124m'\u001b[39m\u001b[38;5;124mpr\u001b[39m\u001b[38;5;124m'\u001b[39m\u001b[38;5;124m for parlalopram, \u001b[39m\u001b[38;5;130;01m\\n\u001b[39;00m\u001b[38;5;124m \u001b[39m\u001b[38;5;124m'\u001b[39m\u001b[38;5;124meqt\u001b[39m\u001b[38;5;124m'\u001b[39m\u001b[38;5;124m for equilateral_triangle \u001b[39m\u001b[38;5;124m\"\u001b[39m)\n\u001b[1;32m----> 2\u001b[0m finding_shape(\u001b[38;5;28minput\u001b[39m(\u001b[38;5;124m\"\u001b[39m\u001b[38;5;124mshape\u001b[39m\u001b[38;5;124m\"\u001b[39m))\n",
      "Cell \u001b[1;32mIn[10], line 8\u001b[0m, in \u001b[0;36mfinding_shape\u001b[1;34m(shape_inp)\u001b[0m\n\u001b[0;32m      1\u001b[0m \u001b[38;5;28;01mdef\u001b[39;00m\u001b[38;5;250m \u001b[39m\u001b[38;5;21mfinding_shape\u001b[39m(shape_inp):\n\u001b[0;32m      2\u001b[0m     \u001b[38;5;28;01mmatch\u001b[39;00m shape_inp:\n\u001b[0;32m      3\u001b[0m         \u001b[38;5;28;01mcase\u001b[39;00m \u001b[38;5;124m'\u001b[39m\u001b[38;5;124mr\u001b[39m\u001b[38;5;124m'\u001b[39m:\n\u001b[0;32m      4\u001b[0m             \u001b[38;5;28mprint\u001b[39m(\u001b[38;5;124m\"\u001b[39m\u001b[38;5;124mrectangle\u001b[39m\u001b[38;5;124m\"\u001b[39m)\n\u001b[0;32m      5\u001b[0m             area_rectangle()\n\u001b[0;32m      6\u001b[0m         \u001b[38;5;28;01mcase\u001b[39;00m \u001b[38;5;124m'\u001b[39m\u001b[38;5;124mc\u001b[39m\u001b[38;5;124m'\u001b[39m:\n\u001b[0;32m      7\u001b[0m             \u001b[38;5;28mprint\u001b[39m(\u001b[38;5;124m\"\u001b[39m\u001b[38;5;124mcircle\u001b[39m\u001b[38;5;124m\"\u001b[39m)\n\u001b[1;32m----> 8\u001b[0m             area_circle()\n\u001b[0;32m      9\u001b[0m         \u001b[38;5;28;01mcase\u001b[39;00m \u001b[38;5;124m'\u001b[39m\u001b[38;5;124ms\u001b[39m\u001b[38;5;124m'\u001b[39m:\n\u001b[0;32m     10\u001b[0m             \u001b[38;5;28mprint\u001b[39m(\u001b[38;5;124m\"\u001b[39m\u001b[38;5;124msquare\u001b[39m\u001b[38;5;124m\"\u001b[39m)\n\u001b[0;32m     11\u001b[0m             area_square()\n\u001b[0;32m     12\u001b[0m         \u001b[38;5;28;01mcase\u001b[39;00m \u001b[38;5;124m'\u001b[39m\u001b[38;5;124mt\u001b[39m\u001b[38;5;124m'\u001b[39m:\n\u001b[0;32m     13\u001b[0m             \u001b[38;5;28mprint\u001b[39m(\u001b[38;5;124m\"\u001b[39m\u001b[38;5;124mtriangle\u001b[39m\u001b[38;5;124m\"\u001b[39m)\n\u001b[0;32m     14\u001b[0m             area_triangle()\n\u001b[0;32m     15\u001b[0m         \u001b[38;5;28;01mcase\u001b[39;00m \u001b[38;5;124m'\u001b[39m\u001b[38;5;124mtr\u001b[39m\u001b[38;5;124m'\u001b[39m:\n\u001b[0;32m     16\u001b[0m             \u001b[38;5;28mprint\u001b[39m(\u001b[38;5;124m\"\u001b[39m\u001b[38;5;124mtrapeazium\u001b[39m\u001b[38;5;124m\"\u001b[39m)\n\u001b[0;32m     17\u001b[0m             area_trapezium()\n\u001b[0;32m     18\u001b[0m         \u001b[38;5;28;01mcase\u001b[39;00m \u001b[38;5;124m'\u001b[39m\u001b[38;5;124mro\u001b[39m\u001b[38;5;124m'\u001b[39m:\n\u001b[0;32m     19\u001b[0m             \u001b[38;5;28mprint\u001b[39m(\u001b[38;5;124m\"\u001b[39m\u001b[38;5;124mrombus\u001b[39m\u001b[38;5;124m\"\u001b[39m)\n\u001b[0;32m     20\u001b[0m             area_rombus()\n\u001b[0;32m     21\u001b[0m         \u001b[38;5;28;01mcase\u001b[39;00m \u001b[38;5;124m'\u001b[39m\u001b[38;5;124mpr\u001b[39m\u001b[38;5;124m'\u001b[39m:\n\u001b[0;32m     22\u001b[0m             \u001b[38;5;28mprint\u001b[39m(\u001b[38;5;124m\"\u001b[39m\u001b[38;5;124mparallelogram\u001b[39m\u001b[38;5;124m\"\u001b[39m) \n\u001b[0;32m     23\u001b[0m             area_parallelogram()\n\u001b[0;32m     24\u001b[0m         \u001b[38;5;28;01mcase\u001b[39;00m \u001b[38;5;124m'\u001b[39m\u001b[38;5;124meqt\u001b[39m\u001b[38;5;124m'\u001b[39m:\n\u001b[0;32m     25\u001b[0m             \u001b[38;5;28mprint\u001b[39m(\u001b[38;5;124m\"\u001b[39m\u001b[38;5;124mequilitral triangle\u001b[39m\u001b[38;5;124m\"\u001b[39m)\n\u001b[0;32m     26\u001b[0m             area_equilateral_triangle()\n\u001b[0;32m     27\u001b[0m         \u001b[38;5;28;01mcase\u001b[39;00m\u001b[38;5;250m \u001b[39m\u001b[38;5;28;01m_\u001b[39;00m:\n\u001b[0;32m     28\u001b[0m             \u001b[38;5;28mprint\u001b[39m(\u001b[38;5;124m\"\u001b[39m\u001b[38;5;124mPlease select from options.\u001b[39m\u001b[38;5;124m\"\u001b[39m)\n\u001b[0;32m     29\u001b[0m             os,sy\n",
      "Cell \u001b[1;32mIn[3], line 2\u001b[0m, in \u001b[0;36marea_circle\u001b[1;34m()\u001b[0m\n\u001b[0;32m      1\u001b[0m \u001b[38;5;28;01mdef\u001b[39;00m\u001b[38;5;250m \u001b[39m\u001b[38;5;21marea_circle\u001b[39m():\n\u001b[1;32m----> 2\u001b[0m     \u001b[38;5;28mprint\u001b[39m(\u001b[38;5;124m\"\u001b[39m\u001b[38;5;124marea of circle\u001b[39m\u001b[38;5;124m\"\u001b[39m, math\u001b[38;5;241m.\u001b[39mpi \u001b[38;5;241m*\u001b[39m (\u001b[38;5;28mfloat\u001b[39m(\u001b[38;5;28minput\u001b[39m(\u001b[38;5;124m\"\u001b[39m\u001b[38;5;124mradius of circle\u001b[39m\u001b[38;5;124m\"\u001b[39m)) \u001b[38;5;241m*\u001b[39m\u001b[38;5;241m*\u001b[39m \u001b[38;5;241m2\u001b[39m ))\n",
      "\u001b[1;31mValueError\u001b[0m: could not convert string to float: 'c'"
     ]
    }
   ],
   "source": [
    "print(\" 'c' for circle ,\\n 'r' for rectantle ,\\n 's' for square,\\n 't' for triangle,\\n 'tr' for trapeazium ,\\n 'ro' for rombus,\\n 'pr' for parlalopram, \\n 'eqt' for equilateral_triangle \")\n",
    "finding_shape(input(\"shape\"))\n"
   ]
  },
  {
   "cell_type": "code",
   "execution_count": null,
   "id": "9ab7786e-2846-4e15-9942-7bfe9ab4ece0",
   "metadata": {},
   "outputs": [],
   "source": []
  }
 ],
 "metadata": {
  "kernelspec": {
   "display_name": "base",
   "language": "python",
   "name": "python3"
  },
  "language_info": {
   "codemirror_mode": {
    "name": "ipython",
    "version": 3
   },
   "file_extension": ".py",
   "mimetype": "text/x-python",
   "name": "python",
   "nbconvert_exporter": "python",
   "pygments_lexer": "ipython3",
   "version": "3.13.5"
  }
 },
 "nbformat": 4,
 "nbformat_minor": 5
}
