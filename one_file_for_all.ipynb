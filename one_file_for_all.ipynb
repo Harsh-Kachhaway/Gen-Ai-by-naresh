{
 "cells": [
  {
   "cell_type": "code",
   "execution_count": null,
   "id": "1f1d4572-4f38-4ba6-9955-020c05999a0f",
   "metadata": {
    "scrolled": true
   },
   "outputs": [],
   "source": [
    "import sys\n",
    "sys.version\n"
   ]
  },
  {
   "cell_type": "markdown",
   "id": "1b08560f-f484-4cc8-8c3d-abe8ba17fbce",
   "metadata": {},
   "source": [
    "#python variable = identifier = object\n",
    "syntaz(variable = value)"
   ]
  },
  {
   "cell_type": "code",
   "execution_count": null,
   "id": "c4e204f4-9c56-4f6b-a2ff-8020c49489f1",
   "metadata": {},
   "outputs": [],
   "source": [
    "v = 8\n",
    "v"
   ]
  },
  {
   "cell_type": "markdown",
   "id": "8cb872e7-eadd-43c0-be50-fd4c85d2c9ef",
   "metadata": {},
   "source": [
    "rules to declare python  variable\n",
    "no special symbole\n",
    "case sencitive\n",
    "only under scorde is alowed\n",
    "variable doesnot start with digits"
   ]
  },
  {
   "cell_type": "code",
   "execution_count": null,
   "id": "7a679db3-c46d-4329-a251-e58d760b99a0",
   "metadata": {},
   "outputs": [],
   "source": [
    "var =8\n",
    "# VAR\n",
    "var"
   ]
  },
  {
   "cell_type": "code",
   "execution_count": null,
   "id": "4752ff13-a3e5-42d9-a4ba-103cc9e8a9e6",
   "metadata": {},
   "outputs": [],
   "source": [
    "v_ = 20\n",
    "v_"
   ]
  },
  {
   "cell_type": "code",
   "execution_count": null,
   "id": "681ff32d-362a-4259-b268-87b1a4b9bd5a",
   "metadata": {},
   "outputs": [],
   "source": [
    "import keyword\n",
    "keyword.kwlist"
   ]
  },
  {
   "cell_type": "code",
   "execution_count": null,
   "id": "7cc02e06-b7cc-4501-a5a8-b9b4c4d1dfa6",
   "metadata": {},
   "outputs": [],
   "source": [
    "len(keyword.kwlist)\n"
   ]
  },
  {
   "cell_type": "markdown",
   "id": "212659d3-f9ce-4975-91cd-9cb973c9f087",
   "metadata": {},
   "source": [
    "# 15th of octomber"
   ]
  },
  {
   "cell_type": "code",
   "execution_count": null,
   "id": "9055ef35-872f-473d-ab7f-af157b19d71c",
   "metadata": {},
   "outputs": [],
   "source": [
    "false = 45\n",
    "flase = 34"
   ]
  },
  {
   "cell_type": "code",
   "execution_count": null,
   "id": "fca25542-675c-419c-b178-70d07fd5172b",
   "metadata": {},
   "outputs": [],
   "source": [
    "false\n",
    "flase\n"
   ]
  },
  {
   "cell_type": "markdown",
   "id": "0da52c09-cda4-48f2-9862-ff17278bbc8a",
   "metadata": {},
   "source": [
    "# type casting (16th of octomber)"
   ]
  },
  {
   "cell_type": "markdown",
   "id": "d8294845-7229-4a0f-8f47-296e2a033cdd",
   "metadata": {},
   "source": [
    "### all in int type casting"
   ]
  },
  {
   "cell_type": "code",
   "execution_count": null,
   "id": "27e7dee7-a57a-4ee9-8994-bf578b5c881f",
   "metadata": {},
   "outputs": [],
   "source": [
    "int(2.0)\n",
    "int('10')\n",
    "# int('hello')  cause int dont take text string\n",
    "# int(10+10j) cause int alos dont take complex\n",
    "int(True)"
   ]
  },
  {
   "cell_type": "markdown",
   "id": "62a57719-d005-4ad9-a806-c356c34a452b",
   "metadata": {},
   "source": [
    "### all in float type casting"
   ]
  },
  {
   "cell_type": "code",
   "execution_count": null,
   "id": "869f559c-06dd-4b01-9cb3-f2447f07f4d7",
   "metadata": {},
   "outputs": [],
   "source": [
    "float(2)\n",
    "float(\"10\")\n",
    "float(\"10.1\")\n",
    "# float(10+10j) cause float dont take complex\n",
    "float(True)"
   ]
  },
  {
   "cell_type": "markdown",
   "id": "fe358436-d843-4124-bf40-9d332909453e",
   "metadata": {},
   "source": [
    "### all in string type casting"
   ]
  },
  {
   "cell_type": "code",
   "execution_count": null,
   "id": "f9802392-efeb-4dd5-bfc5-bdbed9685d73",
   "metadata": {},
   "outputs": [],
   "source": [
    "str(2)\n",
    "str(2.1)\n",
    "str(True)\n",
    "str(10+10j)"
   ]
  },
  {
   "cell_type": "markdown",
   "id": "5c4e9d44-5d8a-44cc-b69f-82992d26a025",
   "metadata": {},
   "source": [
    "### all in boolen type casting"
   ]
  },
  {
   "cell_type": "code",
   "execution_count": null,
   "id": "704b35ee-7d78-4a82-a17d-194d49a77db3",
   "metadata": {},
   "outputs": [],
   "source": [
    "bool(1)\n",
    "bool(0)\n",
    "bool('sdf')\n",
    "bool()\n",
    "bool(0.2)\n",
    "bool(0.0)\n",
    "bool(10+10j) #cause all non zero value is True"
   ]
  },
  {
   "cell_type": "markdown",
   "id": "28ae03eb-f673-4bc1-a21e-e40af5187550",
   "metadata": {},
   "source": [
    "### all in complex type casting"
   ]
  },
  {
   "cell_type": "code",
   "execution_count": null,
   "id": "859dbb0f-aec8-4017-b4f0-a066839fa1dd",
   "metadata": {},
   "outputs": [],
   "source": [
    "complex(1)\n",
    "complex(1,2) #only complex takes two argument other only one\n",
    "complex(2.3 , 2.5)\n",
    "complex(\"10\")\n",
    "complex(\"10+10j\")\n",
    "# complex(\"10\" , \"12\") #only take one argument from string\n",
    "# complex(\"hello\")  #dosent take text string\n",
    "complex(True)\n",
    "complex(10 , True)\n",
    "complex(False , True)\n"
   ]
  },
  {
   "cell_type": "code",
   "execution_count": null,
   "id": "e0d0c4a6-0e80-4812-a780-dea2f31e7de2",
   "metadata": {},
   "outputs": [],
   "source": []
  },
  {
   "cell_type": "code",
   "execution_count": null,
   "id": "3818a121-131a-4e52-911a-cbb409d7ccc4",
   "metadata": {},
   "outputs": [],
   "source": []
  },
  {
   "cell_type": "markdown",
   "id": "db935036-e926-4a57-a40a-88c95e8d102c",
   "metadata": {},
   "source": [
    "# 22nd of octomber\n"
   ]
  },
  {
   "cell_type": "markdown",
   "id": "ab9113c8-7be7-4437-8ecf-6c25a0d21790",
   "metadata": {},
   "source": [
    "### python data structrue"
   ]
  },
  {
   "cell_type": "code",
   "execution_count": 1,
   "id": "7367b338-5189-4dc3-8835-495acf0d3963",
   "metadata": {},
   "outputs": [],
   "source": [
    "l =[]"
   ]
  },
  {
   "cell_type": "code",
   "execution_count": 2,
   "id": "62e2f81e-f05e-4e85-887b-ee88b8b5df4c",
   "metadata": {},
   "outputs": [],
   "source": [
    "l.append(10)\n",
    "l.append(23)\n",
    "l.append(34)"
   ]
  },
  {
   "cell_type": "code",
   "execution_count": 3,
   "id": "a0270143-1e07-4f5e-ab2c-e570a9f44209",
   "metadata": {},
   "outputs": [
    {
     "data": {
      "text/plain": [
       "[10, 23, 34]"
      ]
     },
     "execution_count": 3,
     "metadata": {},
     "output_type": "execute_result"
    }
   ],
   "source": [
    "l"
   ]
  },
  {
   "cell_type": "code",
   "execution_count": null,
   "id": "8c4459c0-72bb-477a-b52f-953d575820f7",
   "metadata": {},
   "outputs": [],
   "source": [
    "l."
   ]
  },
  {
   "cell_type": "code",
   "execution_count": null,
   "id": "b5b31c48-3266-4b2b-ad2e-1acf4841e008",
   "metadata": {},
   "outputs": [],
   "source": []
  },
  {
   "cell_type": "code",
   "execution_count": null,
   "id": "35652f71-ccc4-4126-a1c3-70a8849c46c2",
   "metadata": {},
   "outputs": [],
   "source": []
  }
 ],
 "metadata": {
  "kernelspec": {
   "display_name": "Python [conda env:base] *",
   "language": "python",
   "name": "conda-base-py"
  },
  "language_info": {
   "codemirror_mode": {
    "name": "ipython",
    "version": 3
   },
   "file_extension": ".py",
   "mimetype": "text/x-python",
   "name": "python",
   "nbconvert_exporter": "python",
   "pygments_lexer": "ipython3",
   "version": "3.13.5"
  }
 },
 "nbformat": 4,
 "nbformat_minor": 5
}
