{
 "cells": [
  {
   "cell_type": "code",
   "execution_count": 3,
   "id": "36557db0-37ef-4801-984e-359d0be8c6b8",
   "metadata": {},
   "outputs": [
    {
     "name": "stdout",
     "output_type": "stream",
     "text": [
      "{'a': 3, 'b': 2}\n"
     ]
    }
   ],
   "source": [
    "d1 = {}                                 # empty dict\n",
    "d2 = dict(name=\"Harsh\", age=21)         # using dict()\n",
    "d3 = dict([(\"a\", 1), (\"b\", 2)])         # from list of tuples\n",
    "d4 = {\"a\": 1, \"b\": 2, \"a\": 3}           # duplicate keys overwrite\n",
    "print(d4)  # {'a': 3, 'b': 2}\n"
   ]
  },
  {
   "cell_type": "code",
   "execution_count": 4,
   "id": "697aeca9-b2dc-450e-b34f-98f35f6f9fbd",
   "metadata": {},
   "outputs": [],
   "source": [
    "d1.clear()"
   ]
  },
  {
   "cell_type": "code",
   "execution_count": 17,
   "id": "d7566575-3416-4618-9128-5f10e6bec76e",
   "metadata": {},
   "outputs": [
    {
     "data": {
      "text/plain": [
       "{'name': 'Harsh', 'age': 21}"
      ]
     },
     "execution_count": 17,
     "metadata": {},
     "output_type": "execute_result"
    }
   ],
   "source": [
    "d2"
   ]
  },
  {
   "cell_type": "code",
   "execution_count": 24,
   "id": "91927c7d-e815-4904-834b-429886eec1b3",
   "metadata": {},
   "outputs": [
    {
     "name": "stdout",
     "output_type": "stream",
     "text": [
      "1\n"
     ]
    }
   ],
   "source": [
    "d = {\"a\": 1, \"b\": 2}\n",
    "print(d[\"a\"])       # 1"
   ]
  },
  {
   "cell_type": "code",
   "execution_count": 25,
   "id": "c0639b6f-f5a4-43d6-9f6c-9907466a964a",
   "metadata": {},
   "outputs": [
    {
     "ename": "KeyError",
     "evalue": "'c'",
     "output_type": "error",
     "traceback": [
      "\u001b[1;31m---------------------------------------------------------------------------\u001b[0m",
      "\u001b[1;31mKeyError\u001b[0m                                  Traceback (most recent call last)",
      "Cell \u001b[1;32mIn[25], line 1\u001b[0m\n\u001b[1;32m----> 1\u001b[0m \u001b[38;5;28mprint\u001b[39m(d[\u001b[38;5;124m\"\u001b[39m\u001b[38;5;124mc\u001b[39m\u001b[38;5;124m\"\u001b[39m])\n",
      "\u001b[1;31mKeyError\u001b[0m: 'c'"
     ]
    }
   ],
   "source": [
    "print(d[\"c\"])  # ❌ KeyError: 'c'\n"
   ]
  },
  {
   "cell_type": "code",
   "execution_count": 26,
   "id": "8b0643cc-4732-4dac-a102-e7408f89ab29",
   "metadata": {},
   "outputs": [
    {
     "name": "stdout",
     "output_type": "stream",
     "text": [
      "Harsh\n",
      "0\n"
     ]
    }
   ],
   "source": [
    "print(d2.get(\"name\"))         # None\n",
    "print(d.get(\"c\", 0))      # 0 (default value)\n"
   ]
  },
  {
   "cell_type": "code",
   "execution_count": 27,
   "id": "9cdcd228-df13-4ce0-bb72-95da41f44a8b",
   "metadata": {},
   "outputs": [],
   "source": [
    "d[\"c\"] = 3        # add new key\n",
    "d[\"a\"] = 100      # update existing\n"
   ]
  },
  {
   "cell_type": "code",
   "execution_count": 28,
   "id": "50b0ebe7-760b-4ebb-ba81-52ad1b3243db",
   "metadata": {},
   "outputs": [],
   "source": [
    "d.update({\"d\": 4, \"e\": 5})\n"
   ]
  },
  {
   "cell_type": "code",
   "execution_count": 37,
   "id": "65fe8006-d75b-4bf0-8904-ca334ce80b17",
   "metadata": {},
   "outputs": [],
   "source": [
    "d= d.fromkeys((1,2,3),\"hello\")"
   ]
  },
  {
   "cell_type": "code",
   "execution_count": 38,
   "id": "7b50e262-87d6-4e6a-8875-3a8468baa47a",
   "metadata": {},
   "outputs": [
    {
     "data": {
      "text/plain": [
       "{1: 'hello', 2: 'hello', 3: 'hello'}"
      ]
     },
     "execution_count": 38,
     "metadata": {},
     "output_type": "execute_result"
    }
   ],
   "source": [
    "d"
   ]
  },
  {
   "cell_type": "code",
   "execution_count": 11,
   "id": "5cec476f-8578-4565-8b3c-45275761f2a0",
   "metadata": {},
   "outputs": [
    {
     "ename": "TypeError",
     "evalue": "'int' object is not iterable",
     "output_type": "error",
     "traceback": [
      "\u001b[1;31m---------------------------------------------------------------------------\u001b[0m",
      "\u001b[1;31mTypeError\u001b[0m                                 Traceback (most recent call last)",
      "Cell \u001b[1;32mIn[11], line 1\u001b[0m\n\u001b[1;32m----> 1\u001b[0m d\u001b[38;5;241m.\u001b[39mupdate(\u001b[38;5;241m5\u001b[39m)\n",
      "\u001b[1;31mTypeError\u001b[0m: 'int' object is not iterable"
     ]
    }
   ],
   "source": [
    "d.update(5)  # ❌ TypeError: 'int' object is not iterable\n"
   ]
  },
  {
   "cell_type": "code",
   "execution_count": 16,
   "id": "91892122-af87-4ce7-b023-20c1aabbf366",
   "metadata": {},
   "outputs": [
    {
     "ename": "KeyError",
     "evalue": "'a'",
     "output_type": "error",
     "traceback": [
      "\u001b[1;31m---------------------------------------------------------------------------\u001b[0m",
      "\u001b[1;31mKeyError\u001b[0m                                  Traceback (most recent call last)",
      "Cell \u001b[1;32mIn[16], line 1\u001b[0m\n\u001b[1;32m----> 1\u001b[0m val \u001b[38;5;241m=\u001b[39m d\u001b[38;5;241m.\u001b[39mpop(\u001b[38;5;124m\"\u001b[39m\u001b[38;5;124ma\u001b[39m\u001b[38;5;124m\"\u001b[39m)\n\u001b[0;32m      2\u001b[0m \u001b[38;5;28mprint\u001b[39m(val)\n",
      "\u001b[1;31mKeyError\u001b[0m: 'a'"
     ]
    }
   ],
   "source": [
    "val = d.pop(\"a\")\n",
    "print(val)  # 100\n"
   ]
  },
  {
   "cell_type": "code",
   "execution_count": 13,
   "id": "d44069d3-6794-4464-9a1b-c6d67dd38ce0",
   "metadata": {},
   "outputs": [
    {
     "ename": "KeyError",
     "evalue": "'x'",
     "output_type": "error",
     "traceback": [
      "\u001b[1;31m---------------------------------------------------------------------------\u001b[0m",
      "\u001b[1;31mKeyError\u001b[0m                                  Traceback (most recent call last)",
      "Cell \u001b[1;32mIn[13], line 1\u001b[0m\n\u001b[1;32m----> 1\u001b[0m d\u001b[38;5;241m.\u001b[39mpop(\u001b[38;5;124m\"\u001b[39m\u001b[38;5;124mx\u001b[39m\u001b[38;5;124m\"\u001b[39m)\n",
      "\u001b[1;31mKeyError\u001b[0m: 'x'"
     ]
    }
   ],
   "source": [
    "d.pop(\"x\")  # ❌ KeyError: 'x'\n"
   ]
  },
  {
   "cell_type": "code",
   "execution_count": 31,
   "id": "965636b7-2493-42b4-91fb-fa9da8e6e6aa",
   "metadata": {},
   "outputs": [
    {
     "data": {
      "text/plain": [
       "{'a': 100, 'b': 2, 'c': 3, 'd': 4}"
      ]
     },
     "execution_count": 31,
     "metadata": {},
     "output_type": "execute_result"
    }
   ],
   "source": [
    "d"
   ]
  },
  {
   "cell_type": "code",
   "execution_count": 32,
   "id": "87220aa4-e9f3-41ba-b246-fca9e0b6865d",
   "metadata": {},
   "outputs": [
    {
     "name": "stdout",
     "output_type": "stream",
     "text": [
      "('d', 4)\n"
     ]
    }
   ],
   "source": [
    "# d = {\"a\": 1, \"b\": 2}\n",
    "print(d.popitem())  # ('b', 2)\n"
   ]
  },
  {
   "cell_type": "code",
   "execution_count": 15,
   "id": "03b13202-c6b0-461f-be1a-a24950ae1e94",
   "metadata": {},
   "outputs": [
    {
     "ename": "KeyError",
     "evalue": "'popitem(): dictionary is empty'",
     "output_type": "error",
     "traceback": [
      "\u001b[1;31m---------------------------------------------------------------------------\u001b[0m",
      "\u001b[1;31mKeyError\u001b[0m                                  Traceback (most recent call last)",
      "Cell \u001b[1;32mIn[15], line 2\u001b[0m\n\u001b[0;32m      1\u001b[0m d \u001b[38;5;241m=\u001b[39m {}\n\u001b[1;32m----> 2\u001b[0m d\u001b[38;5;241m.\u001b[39mpopitem()\n",
      "\u001b[1;31mKeyError\u001b[0m: 'popitem(): dictionary is empty'"
     ]
    }
   ],
   "source": [
    "d = {}\n",
    "d.popitem()  # ❌ KeyError: 'popitem(): dictionary is empty'\n"
   ]
  },
  {
   "cell_type": "code",
   "execution_count": 23,
   "id": "0ef7380e-cc2d-4438-80b2-631ad8deadca",
   "metadata": {},
   "outputs": [],
   "source": [
    "del d[\"b\"]\n"
   ]
  },
  {
   "cell_type": "code",
   "execution_count": 25,
   "id": "3a543dcf-edaa-4f2d-b829-5bce17de7ed4",
   "metadata": {},
   "outputs": [
    {
     "data": {
      "text/plain": [
       "{'a': 1}"
      ]
     },
     "execution_count": 25,
     "metadata": {},
     "output_type": "execute_result"
    }
   ],
   "source": [
    "d"
   ]
  },
  {
   "cell_type": "code",
   "execution_count": 26,
   "id": "fe36404a-e324-478a-a2ef-28da8e9e8c09",
   "metadata": {},
   "outputs": [
    {
     "name": "stdout",
     "output_type": "stream",
     "text": [
      "{}\n"
     ]
    }
   ],
   "source": [
    "d.clear()\n",
    "print(d)  # {}\n"
   ]
  },
  {
   "cell_type": "code",
   "execution_count": 27,
   "id": "560f2e60-a5d9-47ee-974c-8bbb2729db14",
   "metadata": {},
   "outputs": [
    {
     "name": "stdout",
     "output_type": "stream",
     "text": [
      "['a', 'b']\n",
      "[1, 2]\n",
      "[('a', 1), ('b', 2)]\n"
     ]
    }
   ],
   "source": [
    "d = {\"a\": 1, \"b\": 2}\n",
    "print(list(d.keys()))   # ['a', 'b']\n",
    "print(list(d.values())) # [1, 2]\n",
    "print(list(d.items()))  # [('a', 1), ('b', 2)]\n"
   ]
  },
  {
   "cell_type": "code",
   "execution_count": 2,
   "id": "26691a73-8249-4ed7-a26f-486f3a20d3be",
   "metadata": {},
   "outputs": [
    {
     "ename": "NameError",
     "evalue": "name 'd1' is not defined",
     "output_type": "error",
     "traceback": [
      "\u001b[1;31m---------------------------------------------------------------------------\u001b[0m",
      "\u001b[1;31mNameError\u001b[0m                                 Traceback (most recent call last)",
      "Cell \u001b[1;32mIn[2], line 1\u001b[0m\n\u001b[1;32m----> 1\u001b[0m d1\n",
      "\u001b[1;31mNameError\u001b[0m: name 'd1' is not defined"
     ]
    }
   ],
   "source": [
    "d1"
   ]
  },
  {
   "cell_type": "code",
   "execution_count": 40,
   "id": "81a1c403-a691-4acd-bd75-b8f33070624c",
   "metadata": {},
   "outputs": [
    {
     "data": {
      "text/plain": [
       "range(0, 10)"
      ]
     },
     "execution_count": 40,
     "metadata": {},
     "output_type": "execute_result"
    }
   ],
   "source": [
    "range(10)"
   ]
  },
  {
   "cell_type": "code",
   "execution_count": 43,
   "id": "e341cc8b-f67b-4dbf-99b1-d330186722b1",
   "metadata": {},
   "outputs": [
    {
     "ename": "AttributeError",
     "evalue": "'list' object has no attribute 'split'",
     "output_type": "error",
     "traceback": [
      "\u001b[1;31m---------------------------------------------------------------------------\u001b[0m",
      "\u001b[1;31mAttributeError\u001b[0m                            Traceback (most recent call last)",
      "Cell \u001b[1;32mIn[43], line 1\u001b[0m\n\u001b[1;32m----> 1\u001b[0m \u001b[38;5;28mlist\u001b[39m(\u001b[38;5;28mrange\u001b[39m(\u001b[38;5;241m1\u001b[39m,\u001b[38;5;241m200\u001b[39m))\u001b[38;5;241m.\u001b[39msplit()\n",
      "\u001b[1;31mAttributeError\u001b[0m: 'list' object has no attribute 'split'"
     ]
    }
   ],
   "source": [
    "list(range(1,200)).split()"
   ]
  },
  {
   "cell_type": "code",
   "execution_count": null,
   "id": "65aeae90-dc1e-4bb9-936f-3c03cfceac1b",
   "metadata": {},
   "outputs": [],
   "source": []
  }
 ],
 "metadata": {
  "kernelspec": {
   "display_name": "Python [conda env:base] *",
   "language": "python",
   "name": "conda-base-py"
  },
  "language_info": {
   "codemirror_mode": {
    "name": "ipython",
    "version": 3
   },
   "file_extension": ".py",
   "mimetype": "text/x-python",
   "name": "python",
   "nbconvert_exporter": "python",
   "pygments_lexer": "ipython3",
   "version": "3.13.5"
  }
 },
 "nbformat": 4,
 "nbformat_minor": 5
}
