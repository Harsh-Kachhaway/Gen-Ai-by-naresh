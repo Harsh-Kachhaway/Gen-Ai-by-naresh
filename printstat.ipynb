{
 "cells": [
  {
   "cell_type": "code",
   "execution_count": 2,
   "id": "23f2fc04",
   "metadata": {},
   "outputs": [],
   "source": [
    "a = 23\n",
    "b = 34"
   ]
  },
  {
   "cell_type": "code",
   "execution_count": 3,
   "id": "5a73bb87",
   "metadata": {},
   "outputs": [
    {
     "name": "stdout",
     "output_type": "stream",
     "text": [
      "hello 23 and 34\n"
     ]
    }
   ],
   "source": [
    "print('hello',a,'and',b)"
   ]
  },
  {
   "cell_type": "code",
   "execution_count": 6,
   "id": "d8595601",
   "metadata": {},
   "outputs": [
    {
     "name": "stdout",
     "output_type": "stream",
     "text": [
      "the additon of 20 and 30 is  =50\n"
     ]
    }
   ],
   "source": [
    "a = 20\n",
    "b =30\n",
    "add = a+b\n",
    "print('the additon of {} and {} is  ={}'.format(a,b,add))"
   ]
  },
  {
   "cell_type": "code",
   "execution_count": 7,
   "id": "3e19e43f",
   "metadata": {},
   "outputs": [],
   "source": [
    "name='Python'\n",
    "age=20\n",
    "city='hyd'"
   ]
  },
  {
   "cell_type": "code",
   "execution_count": 10,
   "id": "0697fb27",
   "metadata": {},
   "outputs": [
    {
     "name": "stdout",
     "output_type": "stream",
     "text": [
      "hello my name is Python, and i am 20 years old from hyd\n"
     ]
    }
   ],
   "source": [
    "print('hello my name is {}, and i am {} years old from {}'.format(name,age,city))"
   ]
  },
  {
   "cell_type": "code",
   "execution_count": 11,
   "id": "5cd124e9",
   "metadata": {},
   "outputs": [
    {
     "name": "stdout",
     "output_type": "stream",
     "text": [
      "The avrage of 100, 25, and 333 is= 152.66666666666666 or 152.67\n"
     ]
    }
   ],
   "source": [
    "num1=100\n",
    "num2=25\n",
    "num3=333\n",
    "avg=(num1+num2+num3)/3 # or we can use avg=round(num1+num2+num3)/3,2)\n",
    "avg1=round((num1+num2+num3)/3,2)\n",
    "# The avrage of num1,num2,num3 is = avg\n",
    "print('The avrage of {}, {}, and {} is= {} or {}'.format(num1,num2,num3,\n",
    "avg,avg1)) # here we can use round(avg,2) also"
   ]
  },
  {
   "cell_type": "code",
   "execution_count": 12,
   "id": "2678b823",
   "metadata": {},
   "outputs": [
    {
     "name": "stdout",
     "output_type": "stream",
     "text": [
      "a20 and 30 is 50\n"
     ]
    }
   ],
   "source": [
    "print(f'a{a} and {b} is {add}')"
   ]
  },
  {
   "cell_type": "code",
   "execution_count": 14,
   "id": "2b9447f3",
   "metadata": {},
   "outputs": [
    {
     "name": "stdout",
     "output_type": "stream",
     "text": [
      "hello dgdsfgworld good day\n"
     ]
    }
   ],
   "source": [
    "print('hello', end=' dgdsfg') # 1st statement\n",
    "print('world good day') # 2nd stateme"
   ]
  },
  {
   "cell_type": "code",
   "execution_count": 17,
   "id": "76efd110",
   "metadata": {},
   "outputs": [
    {
     "name": "stdout",
     "output_type": "stream",
     "text": [
      "hello--->hai--->how are you--->\n"
     ]
    }
   ],
   "source": [
    "print('hello','hai','how are you','',sep='--->')"
   ]
  },
  {
   "cell_type": "code",
   "execution_count": null,
   "id": "373b270b",
   "metadata": {},
   "outputs": [],
   "source": []
  }
 ],
 "metadata": {
  "kernelspec": {
   "display_name": "base",
   "language": "python",
   "name": "python3"
  },
  "language_info": {
   "codemirror_mode": {
    "name": "ipython",
    "version": 3
   },
   "file_extension": ".py",
   "mimetype": "text/x-python",
   "name": "python",
   "nbconvert_exporter": "python",
   "pygments_lexer": "ipython3",
   "version": "3.13.5"
  }
 },
 "nbformat": 4,
 "nbformat_minor": 5
}
