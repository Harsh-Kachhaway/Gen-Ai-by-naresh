{
 "cells": [
  {
   "cell_type": "code",
   "execution_count": 1,
   "id": "83e97a13-5f48-4cf5-8027-bd625f45c867",
   "metadata": {},
   "outputs": [],
   "source": [
    "l3 = ['jan','feb']"
   ]
  },
  {
   "cell_type": "code",
   "execution_count": 2,
   "id": "982b1e97-706a-401d-b1ca-018e5c51b222",
   "metadata": {},
   "outputs": [
    {
     "data": {
      "text/plain": [
       "['jan', 'feb']"
      ]
     },
     "execution_count": 2,
     "metadata": {},
     "output_type": "execute_result"
    }
   ],
   "source": [
    "l3"
   ]
  },
  {
   "cell_type": "code",
   "execution_count": 3,
   "id": "005b7818-c829-4f54-b4c2-b2da30f080ff",
   "metadata": {},
   "outputs": [
    {
     "data": {
      "text/plain": [
       "'feb'"
      ]
     },
     "execution_count": 3,
     "metadata": {},
     "output_type": "execute_result"
    }
   ],
   "source": [
    "l3[1]"
   ]
  },
  {
   "cell_type": "code",
   "execution_count": 4,
   "id": "e9bb37bb-1c53-4ad5-b81e-5d72f208722a",
   "metadata": {},
   "outputs": [
    {
     "data": {
      "text/plain": [
       "'b'"
      ]
     },
     "execution_count": 4,
     "metadata": {},
     "output_type": "execute_result"
    }
   ],
   "source": [
    "l3[1][2]"
   ]
  },
  {
   "cell_type": "code",
   "execution_count": 7,
   "id": "141bf66b-96ee-43ac-8c21-fda59d438651",
   "metadata": {},
   "outputs": [
    {
     "data": {
      "text/plain": [
       "'feb'"
      ]
     },
     "execution_count": 7,
     "metadata": {},
     "output_type": "execute_result"
    }
   ],
   "source": [
    "l3.pop(1)"
   ]
  },
  {
   "cell_type": "code",
   "execution_count": 11,
   "id": "60aff3a8-1957-4962-8b51-638cf370017e",
   "metadata": {},
   "outputs": [],
   "source": [
    "l3 = ['jan' ,2 ,4,'re']"
   ]
  },
  {
   "cell_type": "code",
   "execution_count": 15,
   "id": "056d34d9-f097-4f78-9f99-db2d94a979ad",
   "metadata": {},
   "outputs": [],
   "source": [
    "l3.reverse()"
   ]
  },
  {
   "cell_type": "code",
   "execution_count": 16,
   "id": "6cbc40a3-3397-4786-9b2a-85f23937c27a",
   "metadata": {},
   "outputs": [
    {
     "data": {
      "text/plain": [
       "['jan', 2, 4, 're']"
      ]
     },
     "execution_count": 16,
     "metadata": {},
     "output_type": "execute_result"
    }
   ],
   "source": [
    "l3\n"
   ]
  },
  {
   "cell_type": "code",
   "execution_count": 17,
   "id": "b4ee3ef2-cd15-4ec4-97f9-fc3c57ed828f",
   "metadata": {},
   "outputs": [],
   "source": [
    "l4 = [5,8,2,30,-1]"
   ]
  },
  {
   "cell_type": "code",
   "execution_count": 18,
   "id": "81256fe2-7160-4653-b8f2-eb4f1366d570",
   "metadata": {},
   "outputs": [],
   "source": [
    "l4.sort()"
   ]
  },
  {
   "cell_type": "code",
   "execution_count": 25,
   "id": "122abf52-65af-48f4-b12e-90937de7f7fc",
   "metadata": {},
   "outputs": [
    {
     "data": {
      "text/plain": [
       "[30, 8, 5, 2, -1]"
      ]
     },
     "execution_count": 25,
     "metadata": {},
     "output_type": "execute_result"
    }
   ],
   "source": [
    "l4"
   ]
  },
  {
   "cell_type": "code",
   "execution_count": 24,
   "id": "f47b9f3a-c17f-4dea-a7bd-f3181e281f48",
   "metadata": {},
   "outputs": [],
   "source": [
    "l4.sort(reverse=True)"
   ]
  },
  {
   "cell_type": "code",
   "execution_count": 26,
   "id": "83059876-202b-4017-9214-2acb85404256",
   "metadata": {},
   "outputs": [],
   "source": [
    "l5=['a','re','gs' , 'b', 'harsh','H', 'Harsh']"
   ]
  },
  {
   "cell_type": "code",
   "execution_count": 33,
   "id": "8e405559-599a-4ee0-9a01-45196da45347",
   "metadata": {},
   "outputs": [],
   "source": [
    "l5.sort()\n",
    "# l5.sort(reverse = True)"
   ]
  },
  {
   "cell_type": "code",
   "execution_count": 34,
   "id": "7a96970d-0e6e-4ccd-9afa-e005c5d635bc",
   "metadata": {},
   "outputs": [
    {
     "data": {
      "text/plain": [
       "['H', 'Harsh', 'a', 'b', 'gs', 'harsh', 're']"
      ]
     },
     "execution_count": 34,
     "metadata": {},
     "output_type": "execute_result"
    }
   ],
   "source": [
    "l5"
   ]
  },
  {
   "cell_type": "code",
   "execution_count": 50,
   "id": "fa48dc7d-4763-4436-9850-e25f3866d368",
   "metadata": {},
   "outputs": [],
   "source": [
    "l6 =[234,4,23,3.4,234.5,0,True ,False ,0,1 ]"
   ]
  },
  {
   "cell_type": "code",
   "execution_count": 51,
   "id": "03f2dc82-b4e0-4894-9c77-03d570bc334d",
   "metadata": {},
   "outputs": [],
   "source": [
    "l6.sort()"
   ]
  },
  {
   "cell_type": "code",
   "execution_count": 52,
   "id": "c7f271a5-e92f-4534-b89d-cb6ffaf7a804",
   "metadata": {},
   "outputs": [
    {
     "data": {
      "text/plain": [
       "[0, False, 0, True, 1, 3.4, 4, 23, 234, 234.5]"
      ]
     },
     "execution_count": 52,
     "metadata": {},
     "output_type": "execute_result"
    }
   ],
   "source": [
    "l6"
   ]
  },
  {
   "cell_type": "code",
   "execution_count": 53,
   "id": "9c88477f-0c38-47c6-aa17-78e13505ae89",
   "metadata": {},
   "outputs": [],
   "source": [
    "l7 =[3+4j , 4+3j]"
   ]
  },
  {
   "cell_type": "code",
   "execution_count": 54,
   "id": "553f62eb-db27-435c-acd5-e2c4b32843d0",
   "metadata": {},
   "outputs": [
    {
     "ename": "TypeError",
     "evalue": "'<' not supported between instances of 'complex' and 'complex'",
     "output_type": "error",
     "traceback": [
      "\u001b[1;31m---------------------------------------------------------------------------\u001b[0m",
      "\u001b[1;31mTypeError\u001b[0m                                 Traceback (most recent call last)",
      "Cell \u001b[1;32mIn[54], line 1\u001b[0m\n\u001b[1;32m----> 1\u001b[0m l7\u001b[38;5;241m.\u001b[39msort()\n",
      "\u001b[1;31mTypeError\u001b[0m: '<' not supported between instances of 'complex' and 'complex'"
     ]
    }
   ],
   "source": [
    "l7.sort()"
   ]
  },
  {
   "cell_type": "code",
   "execution_count": 55,
   "id": "081e8d17-de27-4c08-8456-800bedb09a66",
   "metadata": {},
   "outputs": [
    {
     "data": {
      "text/plain": [
       "['H', 'Harsh', 'a', 'b', 'gs', 'harsh', 're']"
      ]
     },
     "execution_count": 55,
     "metadata": {},
     "output_type": "execute_result"
    }
   ],
   "source": [
    "l5"
   ]
  },
  {
   "cell_type": "code",
   "execution_count": 57,
   "id": "6f1eb85f-a462-4342-a3d8-420bdf9b9772",
   "metadata": {},
   "outputs": [
    {
     "name": "stdout",
     "output_type": "stream",
     "text": [
      "(0, 30)\n",
      "(1, 8)\n",
      "(2, 5)\n",
      "(3, 2)\n",
      "(4, -1)\n"
     ]
    }
   ],
   "source": [
    "for i in enumerate(l4):\n",
    "    print(i)"
   ]
  },
  {
   "cell_type": "code",
   "execution_count": 58,
   "id": "1f08c5a4-aae7-456f-8faf-f8c787d93683",
   "metadata": {},
   "outputs": [],
   "source": [
    "l8 = l4 + l5"
   ]
  },
  {
   "cell_type": "code",
   "execution_count": 59,
   "id": "8aa4c0ec-4414-4b26-a6c9-0238b425264c",
   "metadata": {},
   "outputs": [
    {
     "data": {
      "text/plain": [
       "[30, 8, 5, 2, -1, 'H', 'Harsh', 'a', 'b', 'gs', 'harsh', 're']"
      ]
     },
     "execution_count": 59,
     "metadata": {},
     "output_type": "execute_result"
    }
   ],
   "source": [
    "l8"
   ]
  },
  {
   "cell_type": "code",
   "execution_count": 70,
   "id": "55d24682-2346-493a-ac73-2a51c2bb8ca7",
   "metadata": {},
   "outputs": [],
   "source": [
    "l9 =[1,2,3,4,0]"
   ]
  },
  {
   "cell_type": "code",
   "execution_count": 71,
   "id": "181540bb-503b-469a-be2d-7943a3373242",
   "metadata": {},
   "outputs": [
    {
     "data": {
      "text/plain": [
       "False"
      ]
     },
     "execution_count": 71,
     "metadata": {},
     "output_type": "execute_result"
    }
   ],
   "source": [
    "all(l9)"
   ]
  },
  {
   "cell_type": "code",
   "execution_count": 69,
   "id": "246a2ff4-f61a-49f0-b437-a477d65ac2bf",
   "metadata": {},
   "outputs": [
    {
     "data": {
      "text/plain": [
       "True"
      ]
     },
     "execution_count": 69,
     "metadata": {},
     "output_type": "execute_result"
    }
   ],
   "source": [
    "any(l9)"
   ]
  },
  {
   "cell_type": "code",
   "execution_count": 72,
   "id": "2356a47b-2a34-4c32-8d64-ac06b01000b2",
   "metadata": {},
   "outputs": [],
   "source": [
    "l9.insert(2,25)"
   ]
  },
  {
   "cell_type": "code",
   "execution_count": 73,
   "id": "9136e874-9934-4189-a819-a2beead7af5f",
   "metadata": {},
   "outputs": [
    {
     "data": {
      "text/plain": [
       "[1, 2, 25, 3, 4, 0]"
      ]
     },
     "execution_count": 73,
     "metadata": {},
     "output_type": "execute_result"
    }
   ],
   "source": [
    "l9"
   ]
  },
  {
   "cell_type": "code",
   "execution_count": null,
   "id": "3c2aad82-00bc-487c-972d-fbcd31473ddf",
   "metadata": {},
   "outputs": [],
   "source": []
  }
 ],
 "metadata": {
  "kernelspec": {
   "display_name": "Python [conda env:base] *",
   "language": "python",
   "name": "conda-base-py"
  },
  "language_info": {
   "codemirror_mode": {
    "name": "ipython",
    "version": 3
   },
   "file_extension": ".py",
   "mimetype": "text/x-python",
   "name": "python",
   "nbconvert_exporter": "python",
   "pygments_lexer": "ipython3",
   "version": "3.13.5"
  }
 },
 "nbformat": 4,
 "nbformat_minor": 5
}
