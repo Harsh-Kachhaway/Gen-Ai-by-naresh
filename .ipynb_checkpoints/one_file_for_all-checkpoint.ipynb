{
 "cells": [
  {
   "cell_type": "code",
   "execution_count": 1,
   "id": "1f1d4572-4f38-4ba6-9955-020c05999a0f",
   "metadata": {
    "scrolled": true
   },
   "outputs": [
    {
     "data": {
      "text/plain": [
       "'3.13.5 | packaged by Anaconda, Inc. | (main, Jun 12 2025, 16:37:03) [MSC v.1929 64 bit (AMD64)]'"
      ]
     },
     "execution_count": 1,
     "metadata": {},
     "output_type": "execute_result"
    }
   ],
   "source": [
    "import sys\n",
    "sys.version\n"
   ]
  },
  {
   "cell_type": "markdown",
   "id": "1b08560f-f484-4cc8-8c3d-abe8ba17fbce",
   "metadata": {},
   "source": [
    "#python variable = identifier = object\n",
    "syntaz(variable = value)"
   ]
  },
  {
   "cell_type": "code",
   "execution_count": 2,
   "id": "c4e204f4-9c56-4f6b-a2ff-8020c49489f1",
   "metadata": {},
   "outputs": [
    {
     "data": {
      "text/plain": [
       "8"
      ]
     },
     "execution_count": 2,
     "metadata": {},
     "output_type": "execute_result"
    }
   ],
   "source": [
    "v = 8\n",
    "v"
   ]
  },
  {
   "cell_type": "markdown",
   "id": "8cb872e7-eadd-43c0-be50-fd4c85d2c9ef",
   "metadata": {},
   "source": [
    "rules to declare python  variable\n",
    "no special symbole\n",
    "case sencitive\n",
    "only under scorde is alowed\n",
    "variable doesnot start with digits"
   ]
  },
  {
   "cell_type": "code",
   "execution_count": 4,
   "id": "7a679db3-c46d-4329-a251-e58d760b99a0",
   "metadata": {},
   "outputs": [
    {
     "data": {
      "text/plain": [
       "8"
      ]
     },
     "execution_count": 4,
     "metadata": {},
     "output_type": "execute_result"
    }
   ],
   "source": [
    "var =8\n",
    "# VAR\n",
    "var"
   ]
  },
  {
   "cell_type": "code",
   "execution_count": 5,
   "id": "4752ff13-a3e5-42d9-a4ba-103cc9e8a9e6",
   "metadata": {},
   "outputs": [
    {
     "data": {
      "text/plain": [
       "20"
      ]
     },
     "execution_count": 5,
     "metadata": {},
     "output_type": "execute_result"
    }
   ],
   "source": [
    "v_ = 20\n",
    "v_"
   ]
  },
  {
   "cell_type": "code",
   "execution_count": 3,
   "id": "681ff32d-362a-4259-b268-87b1a4b9bd5a",
   "metadata": {},
   "outputs": [
    {
     "data": {
      "text/plain": [
       "['False',\n",
       " 'None',\n",
       " 'True',\n",
       " 'and',\n",
       " 'as',\n",
       " 'assert',\n",
       " 'async',\n",
       " 'await',\n",
       " 'break',\n",
       " 'class',\n",
       " 'continue',\n",
       " 'def',\n",
       " 'del',\n",
       " 'elif',\n",
       " 'else',\n",
       " 'except',\n",
       " 'finally',\n",
       " 'for',\n",
       " 'from',\n",
       " 'global',\n",
       " 'if',\n",
       " 'import',\n",
       " 'in',\n",
       " 'is',\n",
       " 'lambda',\n",
       " 'nonlocal',\n",
       " 'not',\n",
       " 'or',\n",
       " 'pass',\n",
       " 'raise',\n",
       " 'return',\n",
       " 'try',\n",
       " 'while',\n",
       " 'with',\n",
       " 'yield']"
      ]
     },
     "execution_count": 3,
     "metadata": {},
     "output_type": "execute_result"
    }
   ],
   "source": [
    "import keyword\n",
    "keyword.kwlist"
   ]
  },
  {
   "cell_type": "code",
   "execution_count": 4,
   "id": "7cc02e06-b7cc-4501-a5a8-b9b4c4d1dfa6",
   "metadata": {},
   "outputs": [
    {
     "data": {
      "text/plain": [
       "35"
      ]
     },
     "execution_count": 4,
     "metadata": {},
     "output_type": "execute_result"
    }
   ],
   "source": [
    "len(keyword.kwlist)\n"
   ]
  },
  {
   "cell_type": "markdown",
   "id": "212659d3-f9ce-4975-91cd-9cb973c9f087",
   "metadata": {},
   "source": [
    "# 15th of octomber"
   ]
  },
  {
   "cell_type": "code",
   "execution_count": 3,
   "id": "9055ef35-872f-473d-ab7f-af157b19d71c",
   "metadata": {},
   "outputs": [],
   "source": [
    "false = 45\n",
    "flase = 34"
   ]
  },
  {
   "cell_type": "code",
   "execution_count": 6,
   "id": "fca25542-675c-419c-b178-70d07fd5172b",
   "metadata": {},
   "outputs": [
    {
     "data": {
      "text/plain": [
       "34"
      ]
     },
     "execution_count": 6,
     "metadata": {},
     "output_type": "execute_result"
    }
   ],
   "source": [
    "false\n",
    "flase\n"
   ]
  },
  {
   "cell_type": "markdown",
   "id": "0da52c09-cda4-48f2-9862-ff17278bbc8a",
   "metadata": {},
   "source": [
    "# type casting (16th of octomber)"
   ]
  },
  {
   "cell_type": "markdown",
   "id": "d8294845-7229-4a0f-8f47-296e2a033cdd",
   "metadata": {},
   "source": [
    "### all in int type casting"
   ]
  },
  {
   "cell_type": "code",
   "execution_count": 4,
   "id": "27e7dee7-a57a-4ee9-8994-bf578b5c881f",
   "metadata": {},
   "outputs": [
    {
     "data": {
      "text/plain": [
       "1"
      ]
     },
     "execution_count": 4,
     "metadata": {},
     "output_type": "execute_result"
    }
   ],
   "source": [
    "int(2.0)\n",
    "int('10')\n",
    "# int('hello')  cause int dont take text string\n",
    "# int(10+10j) cause int alos dont take complex\n",
    "int(True)"
   ]
  },
  {
   "cell_type": "markdown",
   "id": "62a57719-d005-4ad9-a806-c356c34a452b",
   "metadata": {},
   "source": [
    "### all in float type casting"
   ]
  },
  {
   "cell_type": "code",
   "execution_count": 10,
   "id": "869f559c-06dd-4b01-9cb3-f2447f07f4d7",
   "metadata": {},
   "outputs": [
    {
     "data": {
      "text/plain": [
       "1.0"
      ]
     },
     "execution_count": 10,
     "metadata": {},
     "output_type": "execute_result"
    }
   ],
   "source": [
    "float(2)\n",
    "float(\"10\")\n",
    "float(\"10.1\")\n",
    "# float(10+10j) cause float dont take complex\n",
    "float(True)"
   ]
  },
  {
   "cell_type": "markdown",
   "id": "fe358436-d843-4124-bf40-9d332909453e",
   "metadata": {},
   "source": [
    "### all in string type casting"
   ]
  },
  {
   "cell_type": "code",
   "execution_count": 14,
   "id": "f9802392-efeb-4dd5-bfc5-bdbed9685d73",
   "metadata": {},
   "outputs": [
    {
     "data": {
      "text/plain": [
       "'(10+10j)'"
      ]
     },
     "execution_count": 14,
     "metadata": {},
     "output_type": "execute_result"
    }
   ],
   "source": [
    "str(2)\n",
    "str(2.1)\n",
    "str(True)\n",
    "str(10+10j)"
   ]
  },
  {
   "cell_type": "markdown",
   "id": "5c4e9d44-5d8a-44cc-b69f-82992d26a025",
   "metadata": {},
   "source": [
    "### all in boolen type casting"
   ]
  },
  {
   "cell_type": "code",
   "execution_count": 26,
   "id": "704b35ee-7d78-4a82-a17d-194d49a77db3",
   "metadata": {},
   "outputs": [
    {
     "data": {
      "text/plain": [
       "True"
      ]
     },
     "execution_count": 26,
     "metadata": {},
     "output_type": "execute_result"
    }
   ],
   "source": [
    "bool(1)\n",
    "bool(0)\n",
    "bool('sdf')\n",
    "bool()\n",
    "bool(0.2)\n",
    "bool(0.0)\n",
    "bool(10+10j) #cause all non zero value is True"
   ]
  },
  {
   "cell_type": "markdown",
   "id": "28ae03eb-f673-4bc1-a21e-e40af5187550",
   "metadata": {},
   "source": [
    "### all in complex type casting"
   ]
  },
  {
   "cell_type": "code",
   "execution_count": 36,
   "id": "859dbb0f-aec8-4017-b4f0-a066839fa1dd",
   "metadata": {},
   "outputs": [
    {
     "ename": "ValueError",
     "evalue": "complex() arg is a malformed string",
     "output_type": "error",
     "traceback": [
      "\u001b[1;31m---------------------------------------------------------------------------\u001b[0m",
      "\u001b[1;31mValueError\u001b[0m                                Traceback (most recent call last)",
      "Cell \u001b[1;32mIn[36], line 6\u001b[0m\n\u001b[0;32m      4\u001b[0m \u001b[38;5;28mcomplex\u001b[39m(\u001b[38;5;124m\"\u001b[39m\u001b[38;5;124m10\u001b[39m\u001b[38;5;124m\"\u001b[39m)\n\u001b[0;32m      5\u001b[0m \u001b[38;5;66;03m# complex(\"10\" , \"12\") #only take one argument from string\u001b[39;00m\n\u001b[1;32m----> 6\u001b[0m \u001b[38;5;28mcomplex\u001b[39m(\u001b[38;5;124m\"\u001b[39m\u001b[38;5;124mhello\u001b[39m\u001b[38;5;124m\"\u001b[39m)\n\u001b[0;32m      7\u001b[0m \u001b[38;5;28mcomplex\u001b[39m(\u001b[38;5;28;01mTrue\u001b[39;00m)\n\u001b[0;32m      8\u001b[0m \u001b[38;5;28mcomplex\u001b[39m(\u001b[38;5;241m10\u001b[39m , \u001b[38;5;28;01mTrue\u001b[39;00m)\n",
      "\u001b[1;31mValueError\u001b[0m: complex() arg is a malformed string"
     ]
    }
   ],
   "source": [
    "complex(1)\n",
    "complex(1,2) #only complex takes two argument other only one\n",
    "complex(2.3 , 2.5)\n",
    "complex(\"10\")\n",
    "# complex(\"10\" , \"12\") #only take one argument from string\n",
    "# complex(\"hello\")  #dosent take text string\n",
    "complex(True)\n",
    "complex(10 , True)\n",
    "complex(False , True)\n"
   ]
  },
  {
   "cell_type": "code",
   "execution_count": null,
   "id": "e0d0c4a6-0e80-4812-a780-dea2f31e7de2",
   "metadata": {},
   "outputs": [],
   "source": []
  },
  {
   "cell_type": "code",
   "execution_count": null,
   "id": "3818a121-131a-4e52-911a-cbb409d7ccc4",
   "metadata": {},
   "outputs": [],
   "source": []
  },
  {
   "cell_type": "code",
   "execution_count": null,
   "id": "d8989c52-6663-40c8-a919-779c05156cbe",
   "metadata": {},
   "outputs": [],
   "source": []
  }
 ],
 "metadata": {
  "kernelspec": {
   "display_name": "Python [conda env:base] *",
   "language": "python",
   "name": "conda-base-py"
  },
  "language_info": {
   "codemirror_mode": {
    "name": "ipython",
    "version": 3
   },
   "file_extension": ".py",
   "mimetype": "text/x-python",
   "name": "python",
   "nbconvert_exporter": "python",
   "pygments_lexer": "ipython3",
   "version": "3.13.5"
  }
 },
 "nbformat": 4,
 "nbformat_minor": 5
}
