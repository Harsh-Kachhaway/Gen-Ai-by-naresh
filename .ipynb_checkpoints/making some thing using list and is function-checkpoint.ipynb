{
 "cells": [
  {
   "cell_type": "markdown",
   "id": "0aa871df-788f-47be-a0e3-184dc8c958ed",
   "metadata": {},
   "source": [
    "# selfe pratice of lecture(22nd of octomber)"
   ]
  },
  {
   "cell_type": "code",
   "execution_count": 1,
   "id": "4f50d18e-0db5-4d56-85f7-c42f5bcb0c2f",
   "metadata": {},
   "outputs": [],
   "source": [
    "lis =[]"
   ]
  },
  {
   "cell_type": "code",
   "execution_count": null,
   "id": "7a9d6fee-ea9f-472f-b590-5fc554834ea8",
   "metadata": {},
   "outputs": [],
   "source": [
    "lis.append(input(\"your input to append\"))"
   ]
  },
  {
   "cell_type": "code",
   "execution_count": null,
   "id": "60ae7913-e35b-4c1d-a72b-d92cb98c0c3d",
   "metadata": {},
   "outputs": [],
   "source": [
    "lis.remove(input(\"your input to remove\"))"
   ]
  },
  {
   "cell_type": "code",
   "execution_count": null,
   "id": "e6698a16-8c72-4650-88c8-698c89c74566",
   "metadata": {},
   "outputs": [],
   "source": [
    "lis.count(input(\"input element to count\"))"
   ]
  },
  {
   "cell_type": "code",
   "execution_count": null,
   "id": "a691eeba-5d80-4a7e-8144-7a0ca387b11f",
   "metadata": {},
   "outputs": [],
   "source": [
    "lis.index(input(\"input element to find its index\"))"
   ]
  },
  {
   "cell_type": "code",
   "execution_count": null,
   "id": "9fb3f416-8586-4cc1-9194-3ae4d8a199fe",
   "metadata": {},
   "outputs": [],
   "source": [
    "lis.reverse()"
   ]
  },
  {
   "cell_type": "code",
   "execution_count": null,
   "id": "3348e9b5-dec0-4c73-be6c-1808b9a07e0c",
   "metadata": {},
   "outputs": [],
   "source": [
    "lis.clear()"
   ]
  },
  {
   "cell_type": "code",
   "execution_count": null,
   "id": "05d3760e-a6c2-43ac-b6a4-7078330de52d",
   "metadata": {},
   "outputs": [],
   "source": [
    "l2 = lis.copy()"
   ]
  },
  {
   "cell_type": "code",
   "execution_count": null,
   "id": "b6fe1856-1b32-4b44-843f-3a6b6f048be3",
   "metadata": {},
   "outputs": [],
   "source": [
    "lis.extend(l2)"
   ]
  },
  {
   "cell_type": "code",
   "execution_count": null,
   "id": "3bbe296f-24b4-4fe4-9c80-58624e07ff72",
   "metadata": {},
   "outputs": [],
   "source": [
    "lis[int(input(\"start\")):int(input(\"end\")):int(input(\"step\"))]"
   ]
  },
  {
   "cell_type": "markdown",
   "id": "c2aa3a4a-4791-4a81-8fbd-b7e24875c459",
   "metadata": {},
   "source": [
    "# made a little bit of program to do basic of list and slicing"
   ]
  },
  {
   "cell_type": "code",
   "execution_count": 1,
   "id": "fb7d4500-1ffb-477a-b8db-21a7a91105b8",
   "metadata": {},
   "outputs": [],
   "source": [
    "lis =[]"
   ]
  },
  {
   "cell_type": "markdown",
   "id": "bb33c617-666e-4b19-85f0-748e6d8ec6e8",
   "metadata": {},
   "source": [
    "### made using match-catch may be little bit advance but works"
   ]
  },
  {
   "cell_type": "markdown",
   "id": "e077241d-2a94-4d6f-ae3d-1541b917040f",
   "metadata": {},
   "source": [
    "#### in current code unfortunatly its converting every input to string ,because it how input() works ..i may change in future"
   ]
  },
  {
   "cell_type": "code",
   "execution_count": 2,
   "id": "19aa1086-388b-43c1-953b-c3109c316b24",
   "metadata": {},
   "outputs": [],
   "source": [
    "\n",
    "def request_inp(req_inp):\n",
    "    match req_inp:\n",
    "        case \"sho\" :\n",
    "            print(lis)\n",
    "        case \"ape\":\n",
    "           lis.append(input(\"your input to append\"))\n",
    "           print(lis)           \n",
    "        case \"rem\":\n",
    "           lis.remove(input(\"your input to remove\"))\n",
    "           print(lis)   \n",
    "        case \"cou\" :\n",
    "            lis.count(input(\"input element to count\"))\n",
    "            print(lis)\n",
    "        case \"ind\" :\n",
    "            ind_input = input(\"input element to find its index\")\n",
    "            print(\"index of \" + ind_input + \" is \" + str(lis.index(ind_input)))\n",
    "            print(lis)\n",
    "        case \"rev\" :\n",
    "            lis.reverse()\n",
    "            print(lis)\n",
    "        case \"len\" :\n",
    "            print(\"length of list \" + str(lis) + \" is \" + str(len(lis)) )\n",
    "        case \"clr\" :\n",
    "            lis.clear()\n",
    "            print(\"list has been cleared \")\n",
    "\n",
    "        case \"sli\" :\n",
    "            print(\"slicing starts from 0 to \" + str(len(lis) - 1) + \" or -1 to -\"+str(len(lis)))\n",
    "            print(lis[int(input(\"start(eg:0 , at least add 0) \")):int(input(\"end(if want to select ending of list it given above,dont leave input empty)\\n\")):int(input(\"step(for no skiping input 1)\"))])\n",
    "        case _ :\n",
    "            print(\"\\nError,Please select from excistin option\")\n",
    "            \n",
    "            \n",
    "            \n",
    "\n"
   ]
  },
  {
   "cell_type": "markdown",
   "id": "97d03dbb-d8b6-4880-b1ea-409a3a163157",
   "metadata": {},
   "source": [
    "#### may have to use multiple time to append multiple values(or use belove code lis = [.....])"
   ]
  },
  {
   "cell_type": "code",
   "execution_count": null,
   "id": "10a9639b-7e12-4e57-b9d1-f430ad47ea1d",
   "metadata": {},
   "outputs": [],
   "source": [
    "request_inp(input(\"'sho' to view list,\\n'ape' for adding,\\n'rem' for removing,\\n'cou' for counting,\\n'ind' to find index,\\n'len' to find length of list,\\n'rev' to reverse list,\\n'clr to clear,\\n'sli' to slice list\\n\\n\\n\\n\\n\"))"
   ]
  },
  {
   "cell_type": "code",
   "execution_count": 3,
   "id": "7ff77534-b936-4aef-a7ec-65490863f6cf",
   "metadata": {},
   "outputs": [],
   "source": [
    "lis = ['1' , '2','3','4','5','5','5']"
   ]
  },
  {
   "cell_type": "code",
   "execution_count": null,
   "id": "bf901a9f-99b1-4620-ab9f-8296e45b50b9",
   "metadata": {},
   "outputs": [],
   "source": []
  }
 ],
 "metadata": {
  "kernelspec": {
   "display_name": "Python [conda env:base] *",
   "language": "python",
   "name": "conda-base-py"
  },
  "language_info": {
   "codemirror_mode": {
    "name": "ipython",
    "version": 3
   },
   "file_extension": ".py",
   "mimetype": "text/x-python",
   "name": "python",
   "nbconvert_exporter": "python",
   "pygments_lexer": "ipython3",
   "version": "3.13.5"
  }
 },
 "nbformat": 4,
 "nbformat_minor": 5
}
